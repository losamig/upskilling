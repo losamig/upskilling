{
 "cells": [
  {
   "cell_type": "code",
   "execution_count": null,
   "metadata": {},
   "outputs": [],
   "source": [
    "import os\n",
    "\n",
    "from openai import AzureOpenAI\n",
    "import pandas as pd\n",
    "import numpy as np\n",
    "import seaborn as sns\n",
    "import matplotlib.pyplot as plt\n",
    "\n",
    "from sklearn.metrics.pairwise import cosine_similarity\n",
    "\n",
    "client = AzureOpenAI(\n",
    "    api_key=os.getenv(\"AZURE_OPENAI_API_KEY\"),  \n",
    "    api_version=\"2023-12-01-preview\",\n",
    "    azure_endpoint = os.getenv(\"AZURE_OPENAI_ENDPOINT\")\n",
    "    )\n",
    "\n",
    "\n",
    "def generate_embeddings(text, model=\"text-embedding-ada-002\"): \n",
    "    return client.embeddings.create(input = [text], model=model).data[0].embedding\n",
    "\n",
    "\n",
    "def calculate_and_plot(sentences, filename=None):\n",
    "    # calculate embeddings for all combinations of the sentences\n",
    "    embeddings = [generate_embeddings(s) for s in sentences]\n",
    "\n",
    "    # calculate cosine similarity for all combinations of the sentences\n",
    "    similarity = cosine_similarity(embeddings, embeddings)\n",
    "\n",
    "    # label the rows and columns with the sentences\n",
    "    similarity = pd.DataFrame(similarity, columns=sentences, index=sentences)\n",
    "    \n",
    "    # plot the similarity matrix as a triangle\n",
    "    sns.heatmap(similarity, cmap=\"Blues\", annot=True)\n",
    "    if filename:\n",
    "        plt.savefig(filename+\".png\", bbox_inches=\"tight\")\n",
    "    plt.show()\n",
    "\n",
    "def calculate_and_short(question, options):\n",
    "    embedding_for_question = generate_embeddings(question)\n",
    "    embeddings_for_options = [generate_embeddings(option) for option in options]\n",
    "\n",
    "    # calculate cosine similarity for the question and all options\n",
    "    similarity = cosine_similarity([embedding_for_question], embeddings_for_options)\n",
    "    \n",
    "    # label the rows and columns with the sentences\n",
    "    similarity = pd.DataFrame(similarity, columns=options, index=[question])\n",
    "\n",
    "    # short by similarity\n",
    "    similarity = similarity.T.sort_values(by=question, ascending=False)\n",
    "\n",
    "    return similarity\n"
   ]
  },
  {
   "cell_type": "markdown",
   "metadata": {},
   "source": [
    "## Embedding"
   ]
  },
  {
   "cell_type": "markdown",
   "metadata": {},
   "source": [
    "### How embeddings look like?"
   ]
  },
  {
   "cell_type": "code",
   "execution_count": null,
   "metadata": {},
   "outputs": [],
   "source": [
    "embedding_for_cat = generate_embeddings(\"Cat\")\n",
    "print(f'The emedding for cat has {len(embedding_for_cat)} elements and looks like {embedding_for_cat}')\n",
    "\n",
    "definition_of_cat_merrian_webster =  \"a carnivorous mammal (Felis catus) long domesticated and kept as a pet or for catching rats and mice\"\n",
    "embedding_for_cat_mw = generate_embeddings(definition_of_cat_merrian_webster)\n",
    "print(f'The emedding for the definition of cat has {len(embedding_for_cat_mw)} elements and looks like {embedding_for_cat_mw}')\n"
   ]
  },
  {
   "cell_type": "markdown",
   "metadata": {},
   "source": [
    "### Measuring similarity"
   ]
  },
  {
   "cell_type": "markdown",
   "metadata": {},
   "source": [
    "How similar is \"Cat\" to its definition?"
   ]
  },
  {
   "cell_type": "code",
   "execution_count": null,
   "metadata": {},
   "outputs": [],
   "source": [
    "similarity = cosine_similarity([embedding_for_cat], [embedding_for_cat_mw])\n",
    "print(similarity[0])"
   ]
  },
  {
   "cell_type": "markdown",
   "metadata": {},
   "source": [
    "**Discusion point: Is this a good similarity? (remember, cosine similarity goes from 0 to 1)**"
   ]
  },
  {
   "cell_type": "markdown",
   "metadata": {},
   "source": [
    "Lets try something different. Let's compare cats and dogs."
   ]
  },
  {
   "cell_type": "code",
   "execution_count": null,
   "metadata": {},
   "outputs": [],
   "source": [
    "embedding_for_dog = generate_embeddings(\"Dog\")\n",
    "similarity = cosine_similarity([embedding_for_cat], [embedding_for_dog])\n",
    "print(similarity[0])"
   ]
  },
  {
   "cell_type": "markdown",
   "metadata": {},
   "source": [
    "**Discussion point: What is happening?**"
   ]
  },
  {
   "cell_type": "markdown",
   "metadata": {},
   "source": [
    "What about comparing the definitions of cat and dog?"
   ]
  },
  {
   "cell_type": "code",
   "execution_count": null,
   "metadata": {},
   "outputs": [],
   "source": [
    "definition_of_dog_merrian_webster =  \"a carnivorous mammal (Canis familiaris) closely related to the gray wolf that has long been domesticated as a pet, occurs in a variety of sizes, colors, and coat types, and is sometimes trained to perform special tasks (such as herding, guarding, or acting as a service animal)\"\n",
    "\n",
    "embedding_for_dog_mw = generate_embeddings(definition_of_dog_merrian_webster)\n",
    "similarity = cosine_similarity([embedding_for_cat_mw], [embedding_for_dog_mw])\n",
    "print(similarity[0])"
   ]
  },
  {
   "cell_type": "markdown",
   "metadata": {},
   "source": [
    "**Discussion point:*** Is this what you were expecting?"
   ]
  },
  {
   "cell_type": "markdown",
   "metadata": {},
   "source": [
    "## How far is far?\n",
    "Looking at the next example, what do you expect to be the distances?"
   ]
  },
  {
   "cell_type": "code",
   "execution_count": null,
   "metadata": {},
   "outputs": [],
   "source": [
    "random_sentences = [\"Maradona is the best ever football player\", \n",
    "                    \"Look at that tree, it is massive\", \n",
    "                    \"wooff, woofff, arrrggggg, woooooffffffff, auuuuuuu\"   #dog language\n",
    "                    \"5*10 = 50\", \n",
    "                    \"..--.-.-.---..--\",\n",
    "                    \"kadf 8239 dasf82 aklsd dk342WED\"]\n",
    "\n",
    "calculate_and_plot(random_sentences)"
   ]
  },
  {
   "cell_type": "markdown",
   "metadata": {},
   "source": [
    "**Discusion point** What do you think about the distances? "
   ]
  },
  {
   "cell_type": "markdown",
   "metadata": {},
   "source": [
    "# Embedding search (aka Vector search). The RA in RAG"
   ]
  },
  {
   "cell_type": "markdown",
   "metadata": {},
   "source": [
    "## In the land of Mordor..."
   ]
  },
  {
   "cell_type": "code",
   "execution_count": null,
   "metadata": {},
   "outputs": [],
   "source": [
    "# Facts generated by ChatGPT\n",
    "\n",
    "tower_of_mordor_facts = [\n",
    "    \"The Tower of Mordor, also known as Barad-dûr, is the fortress of Sauron in J.R.R. Tolkien's Middle-earth.\",\n",
    "    \"Barad-dûr is located in the land of Mordor, east of Gondor and near Mount Doom.\",\n",
    "    \"The tower was built by Sauron during the Second Age, starting around 1000 S.A.\",\n",
    "    \"Construction of Barad-dûr took nearly 600 years to complete.\",\n",
    "    \"Barad-dûr was partly destroyed at the end of the Second Age when the Last Alliance of Elves and Men defeated Sauron.\",\n",
    "    \"The tower was rebuilt during the Third Age when Sauron regained power.\",\n",
    "    \"Barad-dûr's foundations were intertwined with the power of the One Ring, making it indestructible as long as the Ring existed.\",\n",
    "    \"The tower stood over 4,500 feet tall, making it one of the tallest structures in Middle-earth.\",\n",
    "    \"Barad-dûr is described as a dark, menacing fortress with iron gates and battlements.\",\n",
    "    \"The Eye of Sauron, a fiery, lidless eye, was a symbol of Sauron's vigilance and power, often depicted as being atop Barad-dûr.\",\n",
    "    \"Barad-dûr had numerous orcs, trolls, and other dark creatures as its inhabitants and guards.\",\n",
    "    \"The tower featured extensive dungeons and torture chambers where prisoners were kept and interrogated.\",\n",
    "    \"Barad-dûr's architecture was marked by sharp angles, black stone, and a foreboding presence.\",\n",
    "    \"From Barad-dûr, Sauron could survey much of Middle-earth and command his armies.\",\n",
    "    \"The fortress was surrounded by the desolate, ashen plains of Gorgoroth.\",\n",
    "    \"During the War of the Ring, Barad-dûr served as the command center for Sauron's military campaigns.\",\n",
    "    \"The destruction of the One Ring by Frodo Baggins led to the ultimate downfall of Barad-dûr, which collapsed entirely in the ensuing cataclysm.\",\n",
    "    \"Barad-dûr was also known as the Dark Tower, symbolizing its role as a bastion of evil in Middle-earth.\",\n",
    "    \"The tower's construction involved the use of dark magic and the enslavement of countless laborers.\",\n",
    "    \"Barad-dûr's fall marked the end of Sauron's dominion and the beginning of the Fourth Age of Middle-earth.\"\n",
    "]\n",
    "\n",
    "mordor_facts = [\n",
    "    \"Mordor is located in the southeast of Middle-earth, bordered by the Ered Lithui (Ash Mountains) to the north and the Ephel Dúath (Mountains of Shadow) to the west and south.\",\n",
    "    \"Mordor is ruled by the Dark Lord Sauron, who seeks to dominate all of Middle-earth.\",\n",
    "    \"Sauron's fortress, Barad-dûr (the Dark Tower), is located in Mordor. It is a massive structure, nearly impregnable.\",\n",
    "    \"Orodruin, or Mount Doom, is the volcano in Mordor where the One Ring was forged and is the only place where it can be destroyed.\",\n",
    "    \"The main entrance to Mordor is the Black Gate (Morannon), a massive fortified gateway in the northwest.\",\n",
    "    \"Formerly known as Minas Ithil, this city was captured by Sauron's forces and became a base for the Nazgûl, the Ringwraiths.\",\n",
    "    \"Mordor is the home base for the Ringwraiths, Sauron's most fearsome servants.\",\n",
    "    \"Sauron manifests as a fiery, lidless eye that constantly watches over Mordor and beyond from the top of Barad-dûr.\",\n",
    "    \"A pass into Mordor guarded by the Tower of Cirith Ungol, infested with Orcs and the giant spider Shelob.\",\n",
    "    \"This barren, desolate plateau lies in the heart of Mordor and is the location of Mount Doom.\",\n",
    "    \"The southern part of Mordor, less barren and home to the inland Sea of Núrn, which supports the agriculture that feeds Sauron's armies.\",\n",
    "    \"Mordor is filled with industrial facilities for the mass production of weapons and armor, particularly for its Orc armies.\",\n",
    "    \"Many of the inhabitants of Núrn are slaves, captured from other lands and forced to work for Sauron's war effort.\",\n",
    "    \"Located north of Mordor, these marshes are filled with the bodies of those who died in the Battle of Dagorlad.\",\n",
    "    \"Mordor is a place of constant fear and dread, where even Sauron's own servants are not safe from his wrath.\",\n",
    "    \"The skies of Mordor are often filled with ash and smoke from Mount Doom, casting a perpetual gloom over the land.\",\n",
    "    \"Although primarily associated with Saruman, many of the Uruk-hai also serve Sauron in Mordor.\",\n",
    "    \"The Black Speech, created by Sauron, is spoken in Mordor. The inscription on the One Ring is in this language.\",\n",
    "    \"A symbol of Sauron's vigilance and control, the Great Eye is often used as a symbol of fear in Mordor.\",\n",
    "    \"Provides the water necessary for the limited agriculture in Núrn, crucial for feeding Sauron's vast armies.\",\n",
    "    \"A valley near Mount Doom, used for the smelting and forging of weapons.\",\n",
    "    \"Mordor is a region of intense geothermal activity, with many volcanoes and lava flows besides Mount Doom.\",\n",
    "    \"Mordor was chosen by Sauron as his base of operations during the Second Age, after the downfall of Númenor.\",\n",
    "    \"Mordor's climate is harsh, with very little rainfall and frequent volcanic activity.\",\n",
    "    \"Shelob, a giant spider, resides in Cirith Ungol and is a deadly guardian of one of the entrances to Mordor.\",\n",
    "    \"Mordor served as the staging ground for Sauron's siege against Gondor, particularly during the Battle of the Pelennor Fields.\",\n",
    "    \"Mordor is roughly 350 miles from west to east and 450 miles from north to south, a vast region of desolation and terror.\",\n",
    "    \"There are several secret ways into Mordor, such as the pass of Cirith Ungol, used by Frodo and Sam.\",\n",
    "    \"The symbol of Sauron's Eye is ubiquitous throughout Mordor, representing his omnipresence and power.\",\n",
    "    \"In Tolkien's legendarium, Mordor epitomizes the ultimate manifestation of evil, oppression, and darkness.\"\n",
    "]\n",
    "\n",
    "about_mordor = tower_of_mordor_facts + mordor_facts"
   ]
  },
  {
   "cell_type": "code",
   "execution_count": null,
   "metadata": {},
   "outputs": [],
   "source": [
    "calculate_and_short(\"How big is mordor?\", about_mordor)[:1]"
   ]
  },
  {
   "cell_type": "code",
   "execution_count": null,
   "metadata": {},
   "outputs": [],
   "source": [
    "calculate_and_short(\"What are the square miles of mordor?\", about_mordor)[:1]"
   ]
  },
  {
   "cell_type": "code",
   "execution_count": null,
   "metadata": {},
   "outputs": [],
   "source": [
    "calculate_and_short(\"Is it safe to build a nuclear power plant in mordor?\", about_mordor)[:1]"
   ]
  },
  {
   "cell_type": "code",
   "execution_count": null,
   "metadata": {},
   "outputs": [],
   "source": [
    "calculate_and_short(\"Is it safe to build a nuclear power plant in mordor?\", about_mordor)[:3]"
   ]
  },
  {
   "cell_type": "markdown",
   "metadata": {},
   "source": [
    "**Discussion** around safety of mordor for building a nuclear power plant**"
   ]
  },
  {
   "cell_type": "markdown",
   "metadata": {},
   "source": [
    "#### More difficult questions"
   ]
  },
  {
   "cell_type": "code",
   "execution_count": null,
   "metadata": {},
   "outputs": [],
   "source": [
    "calculate_and_short(\"What is the tallest tower in mordor\", about_mordor)[:3]"
   ]
  },
  {
   "cell_type": "markdown",
   "metadata": {},
   "source": [
    "## Noise"
   ]
  },
  {
   "cell_type": "code",
   "execution_count": null,
   "metadata": {},
   "outputs": [],
   "source": [
    "eiffel_tower_facts = [\n",
    "    \"The Eiffel Tower was completed in 1889 for the Exposition Universelle (World's Fair) to celebrate the 100th anniversary of the French Revolution.\",\n",
    "    \"It was designed by the French engineer Gustave Eiffel, although the initial design was created by Maurice Koechlin and Émile Nouguier.\",\n",
    "    \"Originally, the Eiffel Tower stood at 300 meters (984 feet) tall. With the addition of antennas, it is now approximately 324 meters (1,063 feet) tall.\",\n",
    "    \"The tower is made of iron and weighs about 10,100 tons.\",\n",
    "    \"The Eiffel Tower is repainted every seven years to protect it from rust. This requires about 60 tons of paint.\",\n",
    "    \"It took two years, two months, and five days to build, with construction starting in January 1887 and completing in March 1889.\",\n",
    "    \"It is one of the most visited paid monuments in the world, with nearly 7 million visitors annually.\",\n",
    "    \"When it was first built, many Parisians and artists criticized the Eiffel Tower, calling it an eyesore.\",\n",
    "    \"During World War II, the lift cables were cut, and the tower was closed to the public. The French cut the cables to prevent Hitler from using the elevator to reach the top.\",\n",
    "    \"The Eiffel Tower has been used as a radio transmission tower since 1910 and later for television broadcasting.\",\n",
    "    \"The tower sways slightly in the wind. It can sway about 6 to 7 centimeters (2 to 3 inches) in strong winds.\",\n",
    "    \"The iron expands and contracts with temperature changes. On hot days, the tower can grow about 15 centimeters (6 inches).\",\n",
    "    \"The tower is illuminated every evening, and since 1985, it has featured a sparkling light show every hour on the hour after dusk.\",\n",
    "    \"There are two restaurants in the Eiffel Tower: Le 58 Tour Eiffel on the first floor and the Michelin-starred Le Jules Verne on the second floor.\",\n",
    "    \"The Eiffel Tower influenced numerous structures worldwide, including the Tokyo Tower in Japan and the Blackpool Tower in England.\",\n",
    "    \"It has appeared in numerous films, books, and artworks, becoming an enduring symbol of France and Paris.\",\n",
    "    \"Over 1,500 sets of stairs are used for maintenance and inspections of the tower.\",\n",
    "    \"The Eiffel Tower is painted in three shades of brown, with the darkest shade at the bottom and the lightest at the top to enhance its silhouette against the sky.\",\n",
    "    \"The Eiffel Tower is owned by the City of Paris and operated by a development company (Société d'Exploitation de la Tour Eiffel).\",\n",
    "    \"The Eiffel Tower often changes its lighting and color schemes for special occasions, such as national holidays, significant events, and global causes.\"\n",
    "]\n",
    "\n",
    "big_ben_facts = [\n",
    "    \"Big Ben is the nickname for the Great Bell of the clock at the north end of the Palace of Westminster in London, but it is often extended to refer to the clock and the clock tower.\",\n",
    "    \"The tower was completed in 1859 and is part of the design by Charles Barry for the new Palace of Westminster after the old palace was destroyed by fire in 1834.\",\n",
    "    \"The official name of the tower was originally the Clock Tower, but it was renamed Elizabeth Tower in 2012 to mark the Diamond Jubilee of Queen Elizabeth II.\",\n",
    "    \"The clock tower stands at 96 meters (315 feet) tall.\",\n",
    "    \"Big Ben is the largest of the five bells in the tower and weighs 13.7 tons (13,760 kg).\",\n",
    "    \"The clock is one of the most accurate mechanical clocks in the world, designed by Edmund Beckett Denison and George Airy.\",\n",
    "    \"Each clock face is 7 meters (23 feet) in diameter.\",\n",
    "    \"The minute hands are 4.2 meters (14 feet) long and weigh about 100 kilograms (220 pounds).\",\n",
    "    \"The clock started ticking on 31 May 1859, and Big Ben first chimed on 11 July 1859.\",\n",
    "    \"The tower leans slightly to the northwest, by approximately 0.26 degrees, due to ground conditions.\",\n",
    "    \"Big Ben's clock mechanism is manually wound three times a week.\",\n",
    "    \"The clock tower survived bombing raids during World War II, despite the nearby House of Commons being destroyed.\",\n",
    "    \"The chimes of Big Ben are broadcast live by the BBC, a tradition that started on 31 December 1923.\",\n",
    "    \"The clock has stopped several times, including during maintenance work and extreme weather conditions.\",\n",
    "    \"The bell cracked during testing in October 1857 and had to be recast. It cracked again in 1859, but the crack was turned to avoid further damage, giving Big Ben its distinctive sound.\",\n",
    "    \"There are 334 steps to the belfry, the top of the tower.\",\n",
    "    \"The clock faces are cleaned by a specialist team of abseilers once every five years.\",\n",
    "    \"The Latin inscription around the base of each clock face reads 'DOMINE SALVAM FAC REGINAM NOSTRAM VICTORIAM PRIMAM,' which means 'O Lord, keep safe our Queen Victoria the First.'\",\n",
    "    \"In 2021, the Elizabeth Tower underwent its biggest renovation in 40 years, including new paint, glass, and repairs to the masonry.\",\n",
    "    \"The clock tower is part of the UNESCO World Heritage Site of the Palace of Westminster and Westminster Abbey, including Saint Margaret's Church.\"\n",
    "]\n",
    "\n",
    "lots_of_data = eiffel_tower_facts + big_ben_facts + about_mordor"
   ]
  },
  {
   "cell_type": "code",
   "execution_count": null,
   "metadata": {},
   "outputs": [],
   "source": [
    "\n",
    "calculate_and_short(\"What is tower took the most time to be built?\", lots_of_data)[:3]"
   ]
  },
  {
   "cell_type": "code",
   "execution_count": null,
   "metadata": {},
   "outputs": [],
   "source": [
    "calculate_and_short(\"Which building took the most time to be built?\", lots_of_data)[:3]"
   ]
  },
  {
   "cell_type": "code",
   "execution_count": null,
   "metadata": {},
   "outputs": [],
   "source": [
    "calculate_and_short(\"What tower took the most of the time to be completed?\", lots_of_data)[:5]\n",
    "\n",
    "# The right answer is \"Construction of Barad-dûr took nearly 600 years to complete.\""
   ]
  },
  {
   "cell_type": "markdown",
   "metadata": {},
   "source": [
    "**Discussion point**: Effect of how you formulate the question in the retrieval."
   ]
  },
  {
   "cell_type": "code",
   "execution_count": null,
   "metadata": {},
   "outputs": [],
   "source": [
    "calculate_and_short(\"What took the most of the time to be completed?\", lots_of_data)[:5]\n",
    "\n"
   ]
  },
  {
   "cell_type": "code",
   "execution_count": null,
   "metadata": {},
   "outputs": [],
   "source": [
    "calculate_and_short(\"Barad-dûr\", [\"tower\",\"construction\"])[:5]"
   ]
  },
  {
   "cell_type": "markdown",
   "metadata": {},
   "source": [
    "**Discussion**. We can see the effect of the training corpus in the distances. It seems that our embeddings are not aware that Barad-dur is a tower. Let's compare with Eiffel"
   ]
  },
  {
   "cell_type": "code",
   "execution_count": null,
   "metadata": {},
   "outputs": [],
   "source": [
    "calculate_and_short(\"Eiffel\", [\"tower\",\"construction\"])[:5]"
   ]
  },
  {
   "cell_type": "markdown",
   "metadata": {},
   "source": [
    "# Other interesting cases"
   ]
  },
  {
   "cell_type": "markdown",
   "metadata": {},
   "source": [
    "### Similarity with familiar expressions that mean the same"
   ]
  },
  {
   "cell_type": "code",
   "execution_count": null,
   "metadata": {},
   "outputs": [],
   "source": [
    "calculate_and_plot([\"It is raining a lot\", \n",
    "                    \"It is raining cats and dogs\", \n",
    "                    \"it is raining massively\", \n",
    "                    \"it is coming down In buckets\",\n",
    "                    \"It’s raining really hard\",\n",
    "                    \"what a downpour!\",\n",
    "                    \"it's bucketing down\"])"
   ]
  },
  {
   "cell_type": "markdown",
   "metadata": {},
   "source": [
    "### Similarity with  expressions that mean the same in different languages"
   ]
  },
  {
   "cell_type": "code",
   "execution_count": null,
   "metadata": {},
   "outputs": [],
   "source": [
    "calculate_and_plot([\"It is raining a lot\", \n",
    "                    \"Esta lloviendo mucho\", \n",
    "                    \"Il pleut beaucoup\", \n",
    "                    \"Piove molto\"])"
   ]
  },
  {
   "cell_type": "markdown",
   "metadata": {},
   "source": [
    "### Similarity with puntuation errors"
   ]
  },
  {
   "cell_type": "code",
   "execution_count": null,
   "metadata": {},
   "outputs": [],
   "source": [
    "calculate_and_plot([\"está lloviendo muchísimo\", \n",
    "                    \"esta lloviendo muchísimo\", \n",
    "                    \"está lloviendo muchisimo\", \n",
    "                    \"está lloviendo muchísimo.\"])"
   ]
  },
  {
   "cell_type": "markdown",
   "metadata": {},
   "source": [
    "### Similarity wit opposites\n",
    "\n"
   ]
  },
  {
   "cell_type": "code",
   "execution_count": null,
   "metadata": {},
   "outputs": [],
   "source": [
    "### Similarity wit opposites\n",
    "\n",
    "calculate_and_plot([\"Move up\", \n",
    "                    \"Move down\", \n",
    "                    \"Move to the left\", \n",
    "                    \"Move to the right\"])\n",
    "\n",
    "calculate_and_plot([\"Open the door\", \n",
    "                    \"Close the door\", \n",
    "                    \"Open the window\", \n",
    "                    \"Close the window\"])"
   ]
  }
 ],
 "metadata": {
  "kernelspec": {
   "display_name": "Python 3",
   "language": "python",
   "name": "python3"
  },
  "language_info": {
   "codemirror_mode": {
    "name": "ipython",
    "version": 3
   },
   "file_extension": ".py",
   "mimetype": "text/x-python",
   "name": "python",
   "nbconvert_exporter": "python",
   "pygments_lexer": "ipython3",
   "version": "3.10.13"
  }
 },
 "nbformat": 4,
 "nbformat_minor": 2
}
