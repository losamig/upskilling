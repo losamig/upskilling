{
 "cells": [
  {
   "cell_type": "code",
   "execution_count": 9,
   "metadata": {},
   "outputs": [],
   "source": [
    "import os\n",
    "import openai\n",
    "import sys\n",
    "from langchain.schema import Document\n",
    "from typing import List, Dict\n",
    "\n",
    "# Required to bypass some issues with ChromaDB and python3.11\n",
    "__import__('pysqlite3')\n",
    "import sys\n",
    "sys.modules['sqlite3'] = sys.modules.pop('pysqlite3')\n",
    "\n",
    "from dotenv import load_dotenv, find_dotenv\n",
    "_ = load_dotenv(find_dotenv()) # read local .env file"
   ]
  },
  {
   "cell_type": "code",
   "execution_count": 10,
   "metadata": {},
   "outputs": [
    {
     "name": "stderr",
     "output_type": "stream",
     "text": [
      "Fetching pages:   0%|          | 0/3 [00:00<?, ?it/s]"
     ]
    },
    {
     "name": "stderr",
     "output_type": "stream",
     "text": [
      "Fetching pages: 100%|##########| 3/3 [00:00<00:00,  5.25it/s]\n"
     ]
    }
   ],
   "source": [
    "from langchain.document_loaders import WebBaseLoader\n",
    "from langchain.text_splitter import HTMLHeaderTextSplitter, RecursiveCharacterTextSplitter\n",
    "\n",
    "# Allow nested asyncio loops\n",
    "import nest_asyncio\n",
    "nest_asyncio.apply()\n",
    "\n",
    "urls=[\n",
    "    \"https://www.vodafone.co.uk/business/sme-business/small-business-advice/top-5-file-sharing-tools-to-secure-your-business\",\n",
    "    \"https://www.vodafone.co.uk/mobile/extras#abroadminpaym\",\n",
    "    \"https://www.vodafone.co.uk/mobile/global-roaming#destinations\",    \n",
    "    ]\n",
    "loader = WebBaseLoader()\n",
    "data = loader.scrape_all(urls)\n"
   ]
  },
  {
   "cell_type": "markdown",
   "metadata": {},
   "source": [
    "### Splitting text"
   ]
  },
  {
   "cell_type": "code",
   "execution_count": 11,
   "metadata": {},
   "outputs": [],
   "source": [
    "# https://blog.langchain.dev/a-chunk-by-any-other-name/\n",
    "# select headers to split on, and map these to metadata field names\n",
    "headers_to_split_on = [\n",
    "    (\"h1\", \"article_h1_main\"),\n",
    "    (\"h2\", \"article_h2_subsection\"),\n",
    "    (\"h3\", \"article_h3_subsection\"),\n",
    "    (\"h4\", \"article_h4_subsection\"),\n",
    "]\n",
    "\n",
    "html_splitter = HTMLHeaderTextSplitter(\n",
    "    headers_to_split_on=headers_to_split_on,\n",
    "    # combine elements with the same metadata by setting return_each_element to False (default)\n",
    "    return_each_element=False\n",
    ")\n",
    "\n",
    "docs = html_splitter.split_text(str(data))"
   ]
  },
  {
   "cell_type": "markdown",
   "metadata": {},
   "source": [
    "### Preparing a very simple Vector Store"
   ]
  },
  {
   "cell_type": "code",
   "execution_count": 12,
   "metadata": {},
   "outputs": [],
   "source": [
    "from langchain.vectorstores import Chroma\n",
    "from langchain_openai.embeddings.azure import AzureOpenAIEmbeddings\n",
    "\n",
    "embeddings = AzureOpenAIEmbeddings(\n",
    "    openai_api_key=os.getenv(\"AZURE_OPENAI_API_KEY\"),\n",
    "    azure_endpoint=os.getenv(\"AZURE_OPENAI_ENDPOINT\"),\n",
    "    azure_deployment=\"text-embedding-ada-002\")"
   ]
  },
  {
   "cell_type": "code",
   "execution_count": 13,
   "metadata": {},
   "outputs": [
    {
     "name": "stdout",
     "output_type": "stream",
     "text": [
      "319\n"
     ]
    }
   ],
   "source": [
    "from langchain.vectorstores import Chroma\n",
    "from langchain_openai.embeddings.azure import AzureOpenAIEmbeddings\n",
    "\n",
    "\n",
    "\n",
    "embeddings = AzureOpenAIEmbeddings(\n",
    "    openai_api_key=os.getenv(\"AZURE_OPENAI_API_KEY\"),\n",
    "    azure_endpoint=os.getenv(\"AZURE_OPENAI_ENDPOINT\"),\n",
    "    azure_deployment=\"text-embedding-ada-002\",\n",
    "    model=\"text-embedding-ada-002\")\n",
    "\n",
    "\n",
    "persist_directory = './chroma_db'\n",
    "number_of_docs = len(docs)\n",
    "print(number_of_docs)\n",
    "# save to disk\n",
    "vectordb =  Chroma.from_documents(\n",
    "    documents=docs,\n",
    "    persist_directory=persist_directory, \n",
    "    embedding=embeddings)\n",
    "\n",
    "vectordb.persist()\n"
   ]
  },
  {
   "cell_type": "markdown",
   "metadata": {},
   "source": [
    "## RetrievalQA"
   ]
  },
  {
   "cell_type": "code",
   "execution_count": 14,
   "metadata": {},
   "outputs": [],
   "source": [
    "from langchain.chains import RetrievalQA\n",
    "from langchain_openai import AzureChatOpenAI\n",
    "from langchain.chains import RetrievalQAWithSourcesChain\n",
    "\n",
    "llm = AzureChatOpenAI(\n",
    "    openai_api_key=os.getenv(\"AZURE_OPENAI_KEY\"),\n",
    "    azure_endpoint=os.getenv(\"AZURE_OPENAI_ENDPOINT\"),\n",
    "    deployment_name=\"gpt-35-turbo\",\n",
    "    temperature=0.7,\n",
    "    openai_api_version=\"2023-05-15\")\n",
    "\n",
    "\n",
    "qa_chain = RetrievalQA .from_chain_type(\n",
    "    llm,\n",
    "    chain_type=\"stuff\",\n",
    "    retriever=vectordb.as_retriever()\n",
    ")\n",
    "\n"
   ]
  },
  {
   "cell_type": "markdown",
   "metadata": {},
   "source": [
    "### Lest test it!"
   ]
  },
  {
   "cell_type": "code",
   "execution_count": 15,
   "metadata": {},
   "outputs": [
    {
     "data": {
      "text/plain": [
       "{'query': 'Best solution to store losts and lots of pictures',\n",
       " 'result': 'Based on the provided context, the best solution to store lots and lots of pictures would not be SecureSafe. It only offers a mere 100MB of storage space in the free version, which is not suitable for storing a large number of pictures. Additionally, the upgraded version with 100GB of storage space is quite expensive compared to other options like Microsoft OneDrive. Therefore, I would recommend considering other cloud storage options that provide a larger amount of storage space at a more affordable price.'}"
      ]
     },
     "execution_count": 15,
     "metadata": {},
     "output_type": "execute_result"
    }
   ],
   "source": [
    "qa_chain(\"Best solution to store losts and lots of pictures\")"
   ]
  },
  {
   "cell_type": "code",
   "execution_count": 16,
   "metadata": {},
   "outputs": [
    {
     "data": {
      "text/plain": [
       "{'query': 'Which provider gives the most of the space free of charge?',\n",
       " 'result': 'Google gives the most storage space free of charge, offering 15 GB when you create a Google account.'}"
      ]
     },
     "execution_count": 16,
     "metadata": {},
     "output_type": "execute_result"
    }
   ],
   "source": [
    "qa_chain(\"Which provider gives the most of the space free of charge?\")"
   ]
  },
  {
   "cell_type": "code",
   "execution_count": 18,
   "metadata": {},
   "outputs": [
    {
     "data": {
      "text/plain": [
       "{'query': 'How many destinations can I call with 8-Day European Roaming Pass?',\n",
       " 'result': 'You can use your plan allowance in 47 destinations with the 8-Day European Roaming Pass.'}"
      ]
     },
     "execution_count": 18,
     "metadata": {},
     "output_type": "execute_result"
    }
   ],
   "source": [
    "qa_chain(\"How many destinations can I call with 8-Day European Roaming Pass?\")"
   ]
  },
  {
   "cell_type": "code",
   "execution_count": 19,
   "metadata": {},
   "outputs": [
    {
     "data": {
      "text/plain": [
       "{'query': 'In which zone is andorra?', 'result': 'Andorra is in Zone D.'}"
      ]
     },
     "execution_count": 19,
     "metadata": {},
     "output_type": "execute_result"
    }
   ],
   "source": [
    "qa_chain(\"In which zone is andorra?\")"
   ]
  },
  {
   "cell_type": "code",
   "execution_count": 20,
   "metadata": {},
   "outputs": [
    {
     "data": {
      "text/plain": [
       "{'query': 'How much does it cost my roaming pass?',\n",
       " 'result': 'The cost of a roaming pass depends on the duration of the pass. The 8-day pass is £12 and the 15-day pass is £17.'}"
      ]
     },
     "execution_count": 20,
     "metadata": {},
     "output_type": "execute_result"
    }
   ],
   "source": [
    "qa_chain(\"How much does it cost my roaming pass?\")"
   ]
  },
  {
   "cell_type": "code",
   "execution_count": 22,
   "metadata": {},
   "outputs": [
    {
     "data": {
      "text/plain": [
       "{'query': 'What pass  your recommend for a weekend in France?',\n",
       " 'result': 'Based on the information provided, it seems that the 8-day European Roaming pass would not be suitable for a weekend trip to France since it is valid for 8 days. However, without more specific information about available options, it is difficult to recommend a specific pass. It would be best to check with your mobile service provider for any specific weekend passes or options for roaming in France.'}"
      ]
     },
     "execution_count": 22,
     "metadata": {},
     "output_type": "execute_result"
    }
   ],
   "source": [
    "qa_chain(\"What pass your recommend for a weekend in France?\")"
   ]
  },
  {
   "cell_type": "markdown",
   "metadata": {},
   "source": [
    "#### Let's find difficult questions"
   ]
  },
  {
   "cell_type": "code",
   "execution_count": 23,
   "metadata": {},
   "outputs": [
    {
     "data": {
      "text/plain": [
       "{'query': 'I am travelling to france this weekend. What can I do to save money?',\n",
       " 'result': 'When travelling to France, there are several things you can do to save money:\\n\\n1. Research and book accommodations in advance: Look for budget-friendly accommodations such as hostels or guesthouses. Booking in advance can help you find better deals.\\n\\n2. Use public transportation: Instead of relying on taxis or rental cars, use public transportation like buses or trains. They are usually cheaper and can help you save on transportation costs.\\n\\n3. Eat like a local: Explore local markets and street food stalls to try affordable and delicious meals. Avoid eating at touristy restaurants, as they tend to be more expensive.\\n\\n4. Take advantage of free attractions and activities: Many museums, parks, and landmarks in France offer free admission or discounted rates on certain days. Research the attractions you want to visit and plan your visit accordingly to save money.\\n\\n5. Use a local SIM card: Instead of using international roaming, consider getting a local SIM card for your phone. This can help you save on data and calling charges.\\n\\n6. Avoid unnecessary expenses: Be mindful of your spending habits and avoid unnecessary expenses like impulse shopping or expensive souvenirs. Stick to a budget and prioritize your spending.\\n\\nRemember to plan ahead and research your options to find the best deals and save money during your trip to France.'}"
      ]
     },
     "execution_count": 23,
     "metadata": {},
     "output_type": "execute_result"
    }
   ],
   "source": [
    "qa_chain(\"I am travelling to france this weekend. What can I do to save money?\")"
   ]
  },
  {
   "cell_type": "code",
   "execution_count": 17,
   "metadata": {},
   "outputs": [
    {
     "data": {
      "text/plain": [
       "{'query': 'How much does it cost to call andorra?',\n",
       " 'result': \"I'm sorry, but I don't have access to specific pricing information. It would be best to check with your service provider to determine the cost of calling Andorra.\"}"
      ]
     },
     "execution_count": 17,
     "metadata": {},
     "output_type": "execute_result"
    }
   ],
   "source": [
    "qa_chain(\"How much does it cost to call andorra?\")"
   ]
  }
 ],
 "metadata": {
  "kernelspec": {
   "display_name": "Python 3",
   "language": "python",
   "name": "python3"
  },
  "language_info": {
   "codemirror_mode": {
    "name": "ipython",
    "version": 3
   },
   "file_extension": ".py",
   "mimetype": "text/x-python",
   "name": "python",
   "nbconvert_exporter": "python",
   "pygments_lexer": "ipython3",
   "version": "3.11.9"
  }
 },
 "nbformat": 4,
 "nbformat_minor": 2
}
