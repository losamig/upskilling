{
 "cells": [
  {
   "cell_type": "code",
   "execution_count": 31,
   "metadata": {},
   "outputs": [],
   "source": [
    "import os\n",
    "import openai\n",
    "import sys\n",
    "from langchain.schema import Document\n",
    "from typing import List, Dict\n",
    "\n",
    "# Required to bypass some issues with ChromaDB and python3.11\n",
    "__import__('pysqlite3')\n",
    "import sys\n",
    "sys.modules['sqlite3'] = sys.modules.pop('pysqlite3')\n",
    "\n",
    "from dotenv import load_dotenv, find_dotenv\n",
    "_ = load_dotenv(find_dotenv()) # read local .env file"
   ]
  },
  {
   "cell_type": "code",
   "execution_count": 32,
   "metadata": {},
   "outputs": [
    {
     "name": "stderr",
     "output_type": "stream",
     "text": [
      "Fetching pages:   0%|          | 0/3 [00:00<?, ?it/s]"
     ]
    },
    {
     "name": "stderr",
     "output_type": "stream",
     "text": [
      "Fetching pages: 100%|##########| 3/3 [00:00<00:00,  5.51it/s]\n"
     ]
    }
   ],
   "source": [
    "from langchain.document_loaders import WebBaseLoader\n",
    "from langchain.text_splitter import HTMLHeaderTextSplitter, RecursiveCharacterTextSplitter\n",
    "\n",
    "# Allow nested asyncio loops\n",
    "import nest_asyncio\n",
    "nest_asyncio.apply()\n",
    "\n",
    "urls=[\n",
    "    \"https://www.vodafone.co.uk/business/sme-business/small-business-advice/top-5-file-sharing-tools-to-secure-your-business\",\n",
    "    \"https://www.vodafone.co.uk/mobile/extras#abroadminpaym\",\n",
    "    \"https://www.vodafone.co.uk/mobile/global-roaming#destinations\",    \n",
    "    ]\n",
    "loader = WebBaseLoader()\n",
    "data = loader.scrape_all(urls)\n"
   ]
  },
  {
   "cell_type": "markdown",
   "metadata": {},
   "source": [
    "### Splitting text"
   ]
  },
  {
   "cell_type": "code",
   "execution_count": 33,
   "metadata": {},
   "outputs": [],
   "source": [
    "# https://blog.langchain.dev/a-chunk-by-any-other-name/\n",
    "# select headers to split on, and map these to metadata field names\n",
    "headers_to_split_on = [\n",
    "    (\"h1\", \"article_h1_main\"),\n",
    "    (\"h2\", \"article_h2_subsection\"),\n",
    "    (\"h3\", \"article_h3_subsection\"),\n",
    "    (\"h4\", \"article_h4_subsection\"),\n",
    "]\n",
    "\n",
    "html_splitter = HTMLHeaderTextSplitter(\n",
    "    headers_to_split_on=headers_to_split_on,\n",
    "    # combine elements with the same metadata by setting return_each_element to False (default)\n",
    "    return_each_element=False\n",
    ")\n",
    "\n",
    "docs = html_splitter.split_text(str(data))"
   ]
  },
  {
   "cell_type": "markdown",
   "metadata": {},
   "source": [
    "### Preparing a very simple Vector Store"
   ]
  },
  {
   "cell_type": "code",
   "execution_count": 34,
   "metadata": {},
   "outputs": [
    {
     "name": "stdout",
     "output_type": "stream",
     "text": [
      "319\n"
     ]
    }
   ],
   "source": [
    "from langchain.vectorstores import Chroma\n",
    "from langchain_openai.embeddings.azure import AzureOpenAIEmbeddings\n",
    "\n",
    "\n",
    "embeddings = AzureOpenAIEmbeddings(\n",
    "    openai_api_key=os.getenv(\"AZURE_OPENAI_API_KEY\"),\n",
    "    azure_endpoint=os.getenv(\"AZURE_OPENAI_ENDPOINT\"),\n",
    "    azure_deployment=\"text-embedding-ada-002\")\n",
    "\n",
    "\n",
    "persist_directory = './chroma_db'\n",
    "number_of_docs = len(docs)\n",
    "print(f'Adding {number_of_docs} to the vector store')\n",
    "vectordb =  Chroma.from_documents(\n",
    "    documents=docs,\n",
    "    persist_directory=persist_directory, \n",
    "    embedding=embeddings)\n",
    "\n",
    "vectordb.persist()\n"
   ]
  },
  {
   "cell_type": "markdown",
   "metadata": {},
   "source": [
    "## RetrievalQA"
   ]
  },
  {
   "cell_type": "code",
   "execution_count": 35,
   "metadata": {},
   "outputs": [],
   "source": [
    "from langchain.chains import RetrievalQA\n",
    "from langchain_openai import AzureChatOpenAI\n",
    "from langchain.chains import RetrievalQAWithSourcesChain\n",
    "\n",
    "llm = AzureChatOpenAI(\n",
    "    openai_api_key=os.getenv(\"AZURE_OPENAI_KEY\"),\n",
    "    azure_endpoint=os.getenv(\"AZURE_OPENAI_ENDPOINT\"),\n",
    "    deployment_name=\"gpt-35-turbo\",\n",
    "    temperature=0.7,\n",
    "    openai_api_version=\"2023-05-15\")\n",
    "\n",
    "\n",
    "qa_chain = RetrievalQA .from_chain_type(\n",
    "    llm,\n",
    "    chain_type=\"stuff\",\n",
    "    retriever=vectordb.as_retriever(\n",
    "        search_type=\"similarity\", #default\n",
    "        search_kwargs={\"k\":4} #default\n",
    "        ) \n",
    ")\n",
    "\n"
   ]
  },
  {
   "cell_type": "markdown",
   "metadata": {},
   "source": [
    "### Lest test it!"
   ]
  },
  {
   "cell_type": "code",
   "execution_count": 36,
   "metadata": {},
   "outputs": [
    {
     "data": {
      "text/plain": [
       "{'query': 'Best solution to store losts and lots of pictures',\n",
       " 'result': 'Based on the given context, it does not provide specific information about the best solution to store lots and lots of pictures.'}"
      ]
     },
     "execution_count": 36,
     "metadata": {},
     "output_type": "execute_result"
    }
   ],
   "source": [
    "qa_chain(\"Best solution to store losts and lots of pictures\")"
   ]
  },
  {
   "cell_type": "code",
   "execution_count": 37,
   "metadata": {},
   "outputs": [
    {
     "data": {
      "text/plain": [
       "{'query': 'Which provider gives the most of the space free of charge?',\n",
       " 'result': 'The provider mentioned in the context offers 5 GB of free storage space.'}"
      ]
     },
     "execution_count": 37,
     "metadata": {},
     "output_type": "execute_result"
    }
   ],
   "source": [
    "qa_chain(\"Which provider gives the most of the space free of charge?\")"
   ]
  },
  {
   "cell_type": "code",
   "execution_count": 38,
   "metadata": {},
   "outputs": [
    {
     "data": {
      "text/plain": [
       "{'query': 'How many destinations can I call with 8-Day European Roaming Pass?',\n",
       " 'result': 'You can use your plan allowance in 47 destinations with the 8-Day European Roaming Pass.'}"
      ]
     },
     "execution_count": 38,
     "metadata": {},
     "output_type": "execute_result"
    }
   ],
   "source": [
    "qa_chain(\"How many destinations can I call with 8-Day European Roaming Pass?\")"
   ]
  },
  {
   "cell_type": "code",
   "execution_count": 39,
   "metadata": {},
   "outputs": [
    {
     "data": {
      "text/plain": [
       "{'query': 'In which zone is andorra?', 'result': 'Andorra is in Zone D.'}"
      ]
     },
     "execution_count": 39,
     "metadata": {},
     "output_type": "execute_result"
    }
   ],
   "source": [
    "qa_chain(\"In which zone is andorra?\")"
   ]
  },
  {
   "cell_type": "code",
   "execution_count": 40,
   "metadata": {},
   "outputs": [
    {
     "data": {
      "text/plain": [
       "{'query': 'How much does it cost my roaming pass?',\n",
       " 'result': 'The cost of a roaming pass depends on the duration you choose. The 8-day pass is £12 and the 15-day pass is £17.'}"
      ]
     },
     "execution_count": 40,
     "metadata": {},
     "output_type": "execute_result"
    }
   ],
   "source": [
    "qa_chain(\"How much does it cost my roaming pass?\")"
   ]
  },
  {
   "cell_type": "code",
   "execution_count": 41,
   "metadata": {},
   "outputs": [
    {
     "data": {
      "text/plain": [
       "{'query': 'What pass your recommend for a weekend in France?',\n",
       " 'result': 'For a weekend trip to France, I would recommend the 2-day European Roaming pass. This pass allows you to use your plan allowance in 47 destinations, including France.'}"
      ]
     },
     "execution_count": 41,
     "metadata": {},
     "output_type": "execute_result"
    }
   ],
   "source": [
    "qa_chain(\"What pass your recommend for a weekend in France?\")"
   ]
  },
  {
   "cell_type": "markdown",
   "metadata": {},
   "source": [
    "#### Let's find difficult questions"
   ]
  },
  {
   "cell_type": "code",
   "execution_count": 42,
   "metadata": {},
   "outputs": [
    {
     "data": {
      "text/plain": [
       "{'query': 'I am travelling to france this weekend. What can I do to save money?',\n",
       " 'result': \"When travelling to France, there are several things you can do to save money:\\n\\n1. Research and compare prices for flights and accommodations to find the best deals.\\n2. Consider staying in budget-friendly accommodations such as hostels or vacation rentals.\\n3. Use public transportation instead of taxis or rental cars to save on transportation costs.\\n4. Eat at local restaurants or markets instead of touristy areas for more affordable dining options.\\n5. Look for free or discounted activities and attractions, such as museums with free admission days or walking tours.\\n6. Use a prepaid travel card or notify your bank to avoid high international transaction fees when using your debit or credit card.\\n7. Avoid unnecessary roaming charges by using local SIM cards or accessing Wi-Fi networks for communication.\\n8. Pack light and avoid excess baggage fees by adhering to the airline's weight and size restrictions.\\n\\nRemember to plan and budget your expenses in advance to make the most of your money while travelling.\"}"
      ]
     },
     "execution_count": 42,
     "metadata": {},
     "output_type": "execute_result"
    }
   ],
   "source": [
    "qa_chain(\"I am travelling to france this weekend. What can I do to save money?\")"
   ]
  },
  {
   "cell_type": "code",
   "execution_count": 43,
   "metadata": {},
   "outputs": [
    {
     "data": {
      "text/plain": [
       "{'query': 'How much does it cost to call andorra?',\n",
       " 'result': \"I'm sorry, but I don't have that information.\"}"
      ]
     },
     "execution_count": 43,
     "metadata": {},
     "output_type": "execute_result"
    }
   ],
   "source": [
    "qa_chain(\"How much does it cost to call andorra?\")"
   ]
  }
 ],
 "metadata": {
  "kernelspec": {
   "display_name": "Python 3",
   "language": "python",
   "name": "python3"
  },
  "language_info": {
   "codemirror_mode": {
    "name": "ipython",
    "version": 3
   },
   "file_extension": ".py",
   "mimetype": "text/x-python",
   "name": "python",
   "nbconvert_exporter": "python",
   "pygments_lexer": "ipython3",
   "version": "3.11.9"
  }
 },
 "nbformat": 4,
 "nbformat_minor": 2
}
