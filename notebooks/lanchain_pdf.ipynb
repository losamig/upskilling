{
 "cells": [
  {
   "cell_type": "code",
   "execution_count": 1,
   "metadata": {},
   "outputs": [],
   "source": [
    "import os\n",
    "import openai\n",
    "import sys\n",
    "from langchain.schema import Document\n",
    "from typing import List, Dict\n",
    "\n",
    "# Required to bypass some issues with ChromaDB and python3.11\n",
    "__import__('pysqlite3')\n",
    "import sys\n",
    "sys.modules['sqlite3'] = sys.modules.pop('pysqlite3')\n",
    "\n",
    "# Allow nested asyncio loops\n",
    "import nest_asyncio\n",
    "nest_asyncio.apply()"
   ]
  },
  {
   "cell_type": "code",
   "execution_count": 2,
   "metadata": {},
   "outputs": [],
   "source": [
    "from openai import AzureOpenAI\n",
    "    \n",
    "client = AzureOpenAI(\n",
    "    api_key=os.getenv(\"AZURE_OPENAI_API_KEY\"),  \n",
    "    api_version=\"2024-02-01\",\n",
    "    azure_endpoint = os.getenv(\"AZURE_OPENAI_ENDPOINT\")\n",
    "    )\n",
    "\n",
    "def evaluate(prediction, expected):\n",
    "    response = client.chat.completions.create(\n",
    "        model=\"gpt-4\", \n",
    "        messages=[\n",
    "            {\"role\": \"system\", \"content\": \"You are a judge that determins if two sentences mean basically the same. It does not matter they use different words. Evaluate just the main intention and numbers. Answer EQUAL or DIFFERENT with one sentence explaining why. The first sentece is delimited by ####, the second sentence is delimited by $$$$\"},\n",
    "            {\"role\": \"user\", \"content\": f\"####{prediction}####  $$$${expected}$$$$\"},\n",
    "        ])\n",
    "    print(response.choices[0].message.content)"
   ]
  },
  {
   "cell_type": "markdown",
   "metadata": {},
   "source": [
    "### Loading and splitting PDF data"
   ]
  },
  {
   "cell_type": "code",
   "execution_count": 3,
   "metadata": {},
   "outputs": [
    {
     "name": "stdout",
     "output_type": "stream",
     "text": [
      "Number of PDF segments is  5\n"
     ]
    }
   ],
   "source": [
    "from langchain.document_loaders import PyPDFLoader\n",
    "from langchain.text_splitter import CharacterTextSplitter,RecursiveCharacterTextSplitter\n",
    "from typing import TYPE_CHECKING, AsyncIterator, Iterator, List, Optional\n",
    "from langchain_core.documents import Document\n",
    "\n",
    "# RecursiveCharacterTextSplitter\n",
    "def load_pdf(file_path: str)->List[Document]:\n",
    "    loader = PyPDFLoader(file_path)\n",
    "    return loader.load()\n",
    "\n",
    "pdf_docs = load_pdf(\"../doc/vfcon072758.pdf\") #+ load_pdf(\"../doc/pdf_roaming_infograph.pdf\")\n",
    "\n",
    "text_splitter = CharacterTextSplitter()\n",
    "#text_splitter = RecursiveCharacterTextSplitter(chunk_size=1000, chunk_overlap=500, length_function=len)\n",
    "\n",
    "pdf_segments = text_splitter.split_documents(pdf_docs)\n",
    "print(f'Number of PDF segments is  {len(pdf_segments)}')"
   ]
  },
  {
   "cell_type": "markdown",
   "metadata": {},
   "source": [
    "### Preparing a very simple Vector Store"
   ]
  },
  {
   "cell_type": "code",
   "execution_count": 4,
   "metadata": {},
   "outputs": [
    {
     "name": "stdout",
     "output_type": "stream",
     "text": [
      "Adding 5 segments to the vector store\n"
     ]
    }
   ],
   "source": [
    "from langchain.vectorstores import Chroma\n",
    "from langchain_openai.embeddings.azure import AzureOpenAIEmbeddings\n",
    "\n",
    "\n",
    "all_segments = pdf_segments\n",
    "\n",
    "embeddings = AzureOpenAIEmbeddings(\n",
    "    openai_api_key=os.getenv(\"AZURE_OPENAI_API_KEY\"),\n",
    "    azure_endpoint=os.getenv(\"AZURE_OPENAI_ENDPOINT\"),\n",
    "    azure_deployment=\"text-embedding-ada-002\")\n",
    "\n",
    "\n",
    "#persist_directory = './chroma_db'\n",
    "print(f'Adding {len(all_segments)} segments to the vector store')\n",
    "vectordb =  Chroma.from_documents(\n",
    "    documents=all_segments,\n",
    "    #persist_directory=persist_directory, \n",
    "    embedding=embeddings)\n",
    "\n",
    "#vectordb.persist()\n"
   ]
  },
  {
   "cell_type": "markdown",
   "metadata": {},
   "source": [
    "## RetrievalQA"
   ]
  },
  {
   "cell_type": "code",
   "execution_count": 5,
   "metadata": {},
   "outputs": [],
   "source": [
    "from langchain.chains import RetrievalQA\n",
    "from langchain_openai import AzureChatOpenAI\n",
    "from langchain.chains import RetrievalQAWithSourcesChain\n",
    "\n",
    "llm = AzureChatOpenAI(\n",
    "    openai_api_key=os.getenv(\"AZURE_OPENAI_KEY\"),\n",
    "    azure_endpoint=os.getenv(\"AZURE_OPENAI_ENDPOINT\"),\n",
    "    deployment_name=\"gpt-35-turbo\",\n",
    "    temperature=0.2,\n",
    "    openai_api_version=\"2023-05-15\")\n",
    "\n",
    "\n",
    "qa_chain = RetrievalQA.from_chain_type(\n",
    "    llm,\n",
    "    chain_type=\"stuff\",\n",
    "    retriever=vectordb.as_retriever(\n",
    "        search_type=\"similarity\", #default\n",
    "        search_kwargs={\"k\":1} #default\n",
    "        ) \n",
    ")\n",
    "\n",
    "def qa(query):\n",
    "    return qa_chain(query)['result']\n"
   ]
  },
  {
   "cell_type": "markdown",
   "metadata": {},
   "source": [
    "### Lest test it!"
   ]
  },
  {
   "cell_type": "code",
   "execution_count": 6,
   "metadata": {},
   "outputs": [
    {
     "name": "stderr",
     "output_type": "stream",
     "text": [
      "/workspaces/upskilling/.venv/lib/python3.11/site-packages/langchain_core/_api/deprecation.py:119: LangChainDeprecationWarning: The method `Chain.__call__` was deprecated in langchain 0.1.0 and will be removed in 0.3.0. Use invoke instead.\n",
      "  warn_deprecated(\n"
     ]
    },
    {
     "name": "stdout",
     "output_type": "stream",
     "text": [
      "The speed limit for Vodafone Unlimited Lite is 2Mbps.\n",
      "EQUAL - Both sentences are saying exactly the same thing: that the speed limit for Vodafone Unlimited Lite is 2Mbps.\n"
     ]
    }
   ],
   "source": [
    "result = qa(\"What are the speed limits for Unlimited Lite?\")\n",
    "print(result)\n",
    "evaluate(result, \"The speed limit for Vodafone Unlimited Lite is 2Mbps\")"
   ]
  },
  {
   "cell_type": "code",
   "execution_count": 7,
   "metadata": {},
   "outputs": [
    {
     "name": "stdout",
     "output_type": "stream",
     "text": [
      "The cost of video calling to UK mobiles is 55p per minute.\n",
      "EQUAL. Both sentences are expressing the exact same information that video calling to UK mobiles costs 55p per minute.\n"
     ]
    }
   ],
   "source": [
    "result = qa(\"What is the cost of video calling to UK mobiles?\")\n",
    "print(result)\n",
    "evaluate(result, \"The cost of video calling to UK mobiles is 55p per minute.\")"
   ]
  },
  {
   "cell_type": "code",
   "execution_count": 8,
   "metadata": {},
   "outputs": [
    {
     "name": "stdout",
     "output_type": "stream",
     "text": [
      "Sending a standard text message to EU destinations costs 19p per message.\n",
      "EQUAL, because the two sentences essentially say the same thing, which is the cost of sending a standard text message to EU destinations is 19p per message, the second sentence just specifies that this applies to Pay monthly and SIM only plans.\n"
     ]
    }
   ],
   "source": [
    "result = qa(\"How much is sending a message to EU?\")\n",
    "print(result)\n",
    "evaluate(result, \"Sending a standard text message to EU destinations costs 19p per message for Pay monthly and SIM only plans\")"
   ]
  },
  {
   "cell_type": "code",
   "execution_count": 9,
   "metadata": {},
   "outputs": [
    {
     "name": "stdout",
     "output_type": "stream",
     "text": [
      "You can contact Vodafone customer service by calling 191 from your Vodafone phone or 0333 3040 191 from UK landlines or other mobiles. They will be able to assist you with any questions or concerns regarding the termination of your agreement.\n",
      "EQUAL - Both sentences are identical and provide the same information about how to contact Vodafone customer service and the help they can provide.\n"
     ]
    }
   ],
   "source": [
    "result = qa(\"I disagree about when I have to end my agreement. Which number I can call?\") # Right answer= Phone: 191 from your Vodafone phone or 0333 3040 191 (from UK landlines or other mobiles);\n",
    "print(result)\n",
    "evaluate(result, \"You can contact Vodafone customer service by calling 191 from your Vodafone phone or 0333 3040 191 from UK landlines or other mobiles.They will be able to assist you with any questions or concerns regarding the termination of your agreement.\")"
   ]
  },
  {
   "cell_type": "code",
   "execution_count": 10,
   "metadata": {},
   "outputs": [
    {
     "name": "stdout",
     "output_type": "stream",
     "text": [
      "The cost of making a call to a number starting with 09 is 65p per minute for Vodafone's Access Charge, plus the Service Charge set by the service or organization you are calling.\n",
      "EQUAL - Both sentences are identical in their wording and meaning.\n"
     ]
    }
   ],
   "source": [
    "result = qa(\"I am making a call to a number starting with 09. What is the cost?\")\n",
    "print(result)\n",
    "evaluate(result, \"The cost of making a call to a number starting with 09 is 65p per minute for Vodafone's Access Charge, plus the Service Charge set by the service or organization you are calling.\")"
   ]
  },
  {
   "cell_type": "markdown",
   "metadata": {},
   "source": [
    "### Tricky ones\n"
   ]
  },
  {
   "cell_type": "code",
   "execution_count": 11,
   "metadata": {},
   "outputs": [
    {
     "name": "stdout",
     "output_type": "stream",
     "text": [
      "Your allowance includes calls to any mobile network within the UK, standard UK landlines (starting 01, 02, 03), voicemail, standard text messages, and data usage. It may also include a monthly roaming allowance for calls to any mobile network in the UK or in our Roam-free destinations.\n",
      "DIFFERENT - The first sentence is giving a description of what the allowance includes while the second sentence shows a lack of understanding about the person's current allowance.\n"
     ]
    }
   ],
   "source": [
    "result = qa(\"What is included in my allowance?\")\n",
    "print(result)\n",
    "evaluate(result, \"I don't know what is your current allowance!\")"
   ]
  },
  {
   "cell_type": "code",
   "execution_count": 13,
   "metadata": {},
   "outputs": [
    {
     "name": "stdout",
     "output_type": "stream",
     "text": [
      "Sending a text message to EU destinations from the UK costs 19p per minute for Pay monthly and SIM only plans.\n",
      "DIFFERENT because the first sentence implies that the cost is per minute, while the second implies that the cost is per message.\n"
     ]
    }
   ],
   "source": [
    "result = qa(\"How much is sending a message to abroad, to the EU?\")\n",
    "print(result)\n",
    "evaluate(result, \"Sending a standard text message to EU destinations costs 19p per message for Pay monthly and SIM only plans\")"
   ]
  },
  {
   "cell_type": "markdown",
   "metadata": {},
   "source": [
    "# what is going on"
   ]
  },
  {
   "cell_type": "code",
   "execution_count": 15,
   "metadata": {},
   "outputs": [
    {
     "name": "stdout",
     "output_type": "stream",
     "text": [
      "\u001b[32;1m\u001b[1;3m[chain/start]\u001b[0m \u001b[1m[chain:RetrievalQA] Entering Chain run with input:\n",
      "\u001b[0m{\n",
      "  \"query\": \"What is included in my allowance?\"\n",
      "}\n",
      "\u001b[32;1m\u001b[1;3m[chain/start]\u001b[0m \u001b[1m[chain:RetrievalQA > chain:StuffDocumentsChain] Entering Chain run with input:\n",
      "\u001b[0m[inputs]\n",
      "\u001b[32;1m\u001b[1;3m[chain/start]\u001b[0m \u001b[1m[chain:RetrievalQA > chain:StuffDocumentsChain > chain:LLMChain] Entering Chain run with input:\n",
      "\u001b[0m{\n",
      "  \"question\": \"What is included in my allowance?\",\n",
      "  \"context\": \"Y our Charges Guide\\nCall 03333 043 222 or email disability.access@vodafone.co.uk\\nfor a large print or braille version of this document.\\nWhen these charges will apply\\nY our plan includes a monthly allowance for calls to any mobile network within the UK, standard UK landlines (starting 01,02,03) and voicemail. \\nIt also includes a monthly allowance for standard text messages and data usage.  It may also include a monthly roaming allowance for calls to \\nany mobile network in the UK or in our Roam-free destinations, standard UK landlines (starting 01,02,03), voicemail, standard text messages \\nand data usage. Once you have exceeded your plan allowance or you use services which are not included within your plan, the prices shown in this Charges Guide will apply. Y ou may be able to buy an extra to give you additional allowances. Y ou can view our range of extras at \\nvodafone.co.uk/ extras or in your “MyVodafone” app.\\nHow we charge for data usage\\nWe measure your data usage in kilobyte (KB). Data is based on the following units:\\n• 1024 KB = 1 Megabyte (MB) \\n• 1024 MB = 1 Gigabyte (GB).\\nY our inclusive data allowance and additional data services will set out the amount of data you can use without an additional charge. \\nWe calculate your data usage based on the amount of data that travels over our network, which may differ from the data your device \\nconsumes.  Y our data usage may include data packages which are re-sent over the network, for example if your connection drops off or if a webpage is refreshed. Certain data services (websites and other packets) may be usage free and will not be taken from your data allowance, \\nwhilst others can consume your data allowance.\\nIt does not matter if you are using 2G, 3G, 4G, 5G, GPRS, Edge or HSPA we measure data in the same way over each of these networks.\\nOur UK data charges\\n Plan type Cost\\n Plans without a data allowance £2.50 per 100MB Y ou’ll be charged for data as you browse \\n Plans with a data allowance\\n Y ou’ll be charged for data once you’ve exceeded your allowance\\n Pay monthly phone plans that started before 3 April 2015, or between 5 May 2016 and 9 July 2019 £6.50 per 250MB\\n SIM only plans that started before 16 August 2015, or between 5 May 2016 and 9 July 2019 £6.50 per 250MB\\n Red or Red Value Bundle Pay monthly phone plans that started between 3 April 2015–4 May 2016 £6.50 per 500MB\\n SIM only plans that started before 16 August 2015, or between 5 May 2016 and 9July 2019 £6.50 per 500MB\\n Pay monthly plans and SIM only plans that started on or after 10 July 2019, excluding Red and £6.50 per 250MB Unlimited plans \\n Data on the go plans £6.50 per 250MB\\n Red plans starting on or after 10 July 2019 See vodafone.co.uk/ extras or\\n   your “MyVodafone” app \\nMobile data speed limits\\nMobile data speed limits apply to our Vodafone Unlimited Lite and Vodafone Unlimited plans only. The maximum upload and download \\nspeeds you could experience on your device with these plans are as follows:  Vodafone Unlimited Lite - 2Mbps and Vodafone Unlimited \\n- 10Mbps.  If you have chosen one of these plans, please note you are not guaranteed to experience the maximum speed stated for your \\nparticular plan - the actual speed you experience will depend on a number of factors including location, network coverage and network signal.\\nExpected upload and download speed\\nFor an estimate of the coverage and speeds you may experience at home and when you are out and about in the UK, please see our coverage checker at vodafone.co.uk/ coverage. The speed estimate you receive with our coverage checker is subject to any speed limits which apply \\nto your plan (see above for more detail).  \\nInformation on your rights, should you experience speeds below those displayed on the coverage checker, is set out in the “Problems with our \\nservices” section in your General Network Terms.\\n1\"\n",
      "}\n",
      "\u001b[32;1m\u001b[1;3m[llm/start]\u001b[0m \u001b[1m[chain:RetrievalQA > chain:StuffDocumentsChain > chain:LLMChain > llm:AzureChatOpenAI] Entering LLM run with input:\n",
      "\u001b[0m{\n",
      "  \"prompts\": [\n",
      "    \"System: Use the following pieces of context to answer the user's question. \\nIf you don't know the answer, just say that you don't know, don't try to make up an answer.\\n----------------\\nY our Charges Guide\\nCall 03333 043 222 or email disability.access@vodafone.co.uk\\nfor a large print or braille version of this document.\\nWhen these charges will apply\\nY our plan includes a monthly allowance for calls to any mobile network within the UK, standard UK landlines (starting 01,02,03) and voicemail. \\nIt also includes a monthly allowance for standard text messages and data usage.  It may also include a monthly roaming allowance for calls to \\nany mobile network in the UK or in our Roam-free destinations, standard UK landlines (starting 01,02,03), voicemail, standard text messages \\nand data usage. Once you have exceeded your plan allowance or you use services which are not included within your plan, the prices shown in this Charges Guide will apply. Y ou may be able to buy an extra to give you additional allowances. Y ou can view our range of extras at \\nvodafone.co.uk/ extras or in your “MyVodafone” app.\\nHow we charge for data usage\\nWe measure your data usage in kilobyte (KB). Data is based on the following units:\\n• 1024 KB = 1 Megabyte (MB) \\n• 1024 MB = 1 Gigabyte (GB).\\nY our inclusive data allowance and additional data services will set out the amount of data you can use without an additional charge. \\nWe calculate your data usage based on the amount of data that travels over our network, which may differ from the data your device \\nconsumes.  Y our data usage may include data packages which are re-sent over the network, for example if your connection drops off or if a webpage is refreshed. Certain data services (websites and other packets) may be usage free and will not be taken from your data allowance, \\nwhilst others can consume your data allowance.\\nIt does not matter if you are using 2G, 3G, 4G, 5G, GPRS, Edge or HSPA we measure data in the same way over each of these networks.\\nOur UK data charges\\n Plan type Cost\\n Plans without a data allowance £2.50 per 100MB Y ou’ll be charged for data as you browse \\n Plans with a data allowance\\n Y ou’ll be charged for data once you’ve exceeded your allowance\\n Pay monthly phone plans that started before 3 April 2015, or between 5 May 2016 and 9 July 2019 £6.50 per 250MB\\n SIM only plans that started before 16 August 2015, or between 5 May 2016 and 9 July 2019 £6.50 per 250MB\\n Red or Red Value Bundle Pay monthly phone plans that started between 3 April 2015–4 May 2016 £6.50 per 500MB\\n SIM only plans that started before 16 August 2015, or between 5 May 2016 and 9July 2019 £6.50 per 500MB\\n Pay monthly plans and SIM only plans that started on or after 10 July 2019, excluding Red and £6.50 per 250MB Unlimited plans \\n Data on the go plans £6.50 per 250MB\\n Red plans starting on or after 10 July 2019 See vodafone.co.uk/ extras or\\n   your “MyVodafone” app \\nMobile data speed limits\\nMobile data speed limits apply to our Vodafone Unlimited Lite and Vodafone Unlimited plans only. The maximum upload and download \\nspeeds you could experience on your device with these plans are as follows:  Vodafone Unlimited Lite - 2Mbps and Vodafone Unlimited \\n- 10Mbps.  If you have chosen one of these plans, please note you are not guaranteed to experience the maximum speed stated for your \\nparticular plan - the actual speed you experience will depend on a number of factors including location, network coverage and network signal.\\nExpected upload and download speed\\nFor an estimate of the coverage and speeds you may experience at home and when you are out and about in the UK, please see our coverage checker at vodafone.co.uk/ coverage. The speed estimate you receive with our coverage checker is subject to any speed limits which apply \\nto your plan (see above for more detail).  \\nInformation on your rights, should you experience speeds below those displayed on the coverage checker, is set out in the “Problems with our \\nservices” section in your General Network Terms.\\n1\\nHuman: What is included in my allowance?\"\n",
      "  ]\n",
      "}\n",
      "\u001b[36;1m\u001b[1;3m[llm/end]\u001b[0m \u001b[1m[chain:RetrievalQA > chain:StuffDocumentsChain > chain:LLMChain > llm:AzureChatOpenAI] [1.43s] Exiting LLM run with output:\n",
      "\u001b[0m{\n",
      "  \"generations\": [\n",
      "    [\n",
      "      {\n",
      "        \"text\": \"Your allowance includes calls to any mobile network within the UK, standard UK landlines (starting 01, 02, 03), voicemail, standard text messages, and data usage. It may also include a monthly roaming allowance for calls to any mobile network in the UK or in our Roam-free destinations.\",\n",
      "        \"generation_info\": {\n",
      "          \"finish_reason\": \"stop\",\n",
      "          \"logprobs\": null,\n",
      "          \"content_filter_results\": {}\n",
      "        },\n",
      "        \"type\": \"ChatGeneration\",\n",
      "        \"message\": {\n",
      "          \"lc\": 1,\n",
      "          \"type\": \"constructor\",\n",
      "          \"id\": [\n",
      "            \"langchain\",\n",
      "            \"schema\",\n",
      "            \"messages\",\n",
      "            \"AIMessage\"\n",
      "          ],\n",
      "          \"kwargs\": {\n",
      "            \"content\": \"Your allowance includes calls to any mobile network within the UK, standard UK landlines (starting 01, 02, 03), voicemail, standard text messages, and data usage. It may also include a monthly roaming allowance for calls to any mobile network in the UK or in our Roam-free destinations.\",\n",
      "            \"response_metadata\": {\n",
      "              \"token_usage\": {\n",
      "                \"completion_tokens\": 63,\n",
      "                \"prompt_tokens\": 986,\n",
      "                \"total_tokens\": 1049\n",
      "              },\n",
      "              \"model_name\": \"gpt-35-turbo\",\n",
      "              \"system_fingerprint\": null,\n",
      "              \"finish_reason\": \"stop\",\n",
      "              \"logprobs\": null,\n",
      "              \"content_filter_results\": {}\n",
      "            },\n",
      "            \"type\": \"ai\",\n",
      "            \"id\": \"run-bfebcc82-60d1-40a2-bef5-98adf47c63e0-0\",\n",
      "            \"usage_metadata\": {\n",
      "              \"input_tokens\": 986,\n",
      "              \"output_tokens\": 63,\n",
      "              \"total_tokens\": 1049\n",
      "            },\n",
      "            \"tool_calls\": [],\n",
      "            \"invalid_tool_calls\": []\n",
      "          }\n",
      "        }\n",
      "      }\n",
      "    ]\n",
      "  ],\n",
      "  \"llm_output\": {\n",
      "    \"token_usage\": {\n",
      "      \"completion_tokens\": 63,\n",
      "      \"prompt_tokens\": 986,\n",
      "      \"total_tokens\": 1049\n",
      "    },\n",
      "    \"model_name\": \"gpt-35-turbo\",\n",
      "    \"system_fingerprint\": null\n",
      "  },\n",
      "  \"run\": null\n",
      "}\n",
      "\u001b[36;1m\u001b[1;3m[chain/end]\u001b[0m \u001b[1m[chain:RetrievalQA > chain:StuffDocumentsChain > chain:LLMChain] [1.43s] Exiting Chain run with output:\n",
      "\u001b[0m{\n",
      "  \"text\": \"Your allowance includes calls to any mobile network within the UK, standard UK landlines (starting 01, 02, 03), voicemail, standard text messages, and data usage. It may also include a monthly roaming allowance for calls to any mobile network in the UK or in our Roam-free destinations.\"\n",
      "}\n",
      "\u001b[36;1m\u001b[1;3m[chain/end]\u001b[0m \u001b[1m[chain:RetrievalQA > chain:StuffDocumentsChain] [1.43s] Exiting Chain run with output:\n",
      "\u001b[0m{\n",
      "  \"output_text\": \"Your allowance includes calls to any mobile network within the UK, standard UK landlines (starting 01, 02, 03), voicemail, standard text messages, and data usage. It may also include a monthly roaming allowance for calls to any mobile network in the UK or in our Roam-free destinations.\"\n",
      "}\n",
      "\u001b[36;1m\u001b[1;3m[chain/end]\u001b[0m \u001b[1m[chain:RetrievalQA] [1.58s] Exiting Chain run with output:\n",
      "\u001b[0m{\n",
      "  \"result\": \"Your allowance includes calls to any mobile network within the UK, standard UK landlines (starting 01, 02, 03), voicemail, standard text messages, and data usage. It may also include a monthly roaming allowance for calls to any mobile network in the UK or in our Roam-free destinations.\"\n",
      "}\n",
      "Your allowance includes calls to any mobile network within the UK, standard UK landlines (starting 01, 02, 03), voicemail, standard text messages, and data usage. It may also include a monthly roaming allowance for calls to any mobile network in the UK or in our Roam-free destinations.\n",
      "DIFFERENT - The first sentence explains what is included in 'your allowance', while the second one states uncertainty about 'your current allowance'.\n"
     ]
    }
   ],
   "source": [
    "from langchain.globals import set_debug\n",
    "\n",
    "set_debug(True)\n",
    "\n",
    "result = qa(\"What is included in my allowance?\")\n",
    "print(result)\n",
    "evaluate(result, \"I don't know what is your current allowance!\")"
   ]
  }
 ],
 "metadata": {
  "kernelspec": {
   "display_name": "Python 3",
   "language": "python",
   "name": "python3"
  },
  "language_info": {
   "codemirror_mode": {
    "name": "ipython",
    "version": 3
   },
   "file_extension": ".py",
   "mimetype": "text/x-python",
   "name": "python",
   "nbconvert_exporter": "python",
   "pygments_lexer": "ipython3",
   "version": "3.11.9"
  }
 },
 "nbformat": 4,
 "nbformat_minor": 2
}
