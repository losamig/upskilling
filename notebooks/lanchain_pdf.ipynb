{
 "cells": [
  {
   "cell_type": "code",
   "execution_count": 1,
   "metadata": {},
   "outputs": [],
   "source": [
    "import os\n",
    "import openai\n",
    "import sys\n",
    "from langchain.schema import Document\n",
    "from typing import List, Dict\n",
    "\n",
    "# Required to bypass some issues with ChromaDB and python3.11\n",
    "__import__('pysqlite3')\n",
    "import sys\n",
    "sys.modules['sqlite3'] = sys.modules.pop('pysqlite3')\n",
    "\n",
    "# Allow nested asyncio loops\n",
    "import nest_asyncio\n",
    "nest_asyncio.apply()"
   ]
  },
  {
   "cell_type": "code",
   "execution_count": 2,
   "metadata": {},
   "outputs": [],
   "source": [
    "from openai import AzureOpenAI\n",
    "    \n",
    "client = AzureOpenAI(\n",
    "    api_key=os.getenv(\"AZURE_OPENAI_API_KEY\"),  \n",
    "    api_version=\"2024-02-01\",\n",
    "    azure_endpoint = os.getenv(\"AZURE_OPENAI_ENDPOINT\")\n",
    "    )\n",
    "\n",
    "def evaluate(prediction, expected):\n",
    "    response = client.chat.completions.create(\n",
    "        model=\"gpt-4\", \n",
    "        messages=[\n",
    "            {\"role\": \"system\", \"content\": \"You are a judge that determins if two sentences mean basically the same. It does not matter they use different words. Evaluate just the main intention and numbers. Answer EQUAL or DIFFERENT with one sentence explaining why. The first sentece is delimited by ####, the second sentence is delimited by $$$$\"},\n",
    "            {\"role\": \"user\", \"content\": f\"####{prediction}####  $$$${expected}$$$$\"},\n",
    "        ])\n",
    "    print(response.choices[0].message.content)"
   ]
  },
  {
   "cell_type": "markdown",
   "metadata": {},
   "source": [
    "### Loading and splitting PDF data"
   ]
  },
  {
   "cell_type": "code",
   "execution_count": 3,
   "metadata": {},
   "outputs": [
    {
     "name": "stdout",
     "output_type": "stream",
     "text": [
      "Number of PDF segments is  5\n"
     ]
    }
   ],
   "source": [
    "from langchain.document_loaders import PyPDFLoader\n",
    "from langchain.text_splitter import CharacterTextSplitter,RecursiveCharacterTextSplitter\n",
    "# RecursiveCharacterTextSplitter\n",
    "def load_pdf(file_path: str) -> List[Document]:\n",
    "    loader = PyPDFLoader(file_path)\n",
    "    return loader.load()\n",
    "\n",
    "pdf_docs =[]\n",
    "pdf_docs.append(load_pdf.load(\"../doc/vfcon072758.pdf\"))\n",
    "pdf_docs.append(load_pdf.load(\"../doc/vfcon072758.pdf\"))\n",
    "\n",
    "text_splitter = CharacterTextSplitter()\n",
    "#text_splitter = RecursiveCharacterTextSplitter(chunk_size=1000, chunk_overlap=500, length_function=len)\n",
    "\n",
    "pdf_segments = text_splitter.split_documents(pdf_docs)\n",
    "print(f'Number of PDF segments is  {len(pdf_segments)}')"
   ]
  },
  {
   "cell_type": "markdown",
   "metadata": {},
   "source": [
    "### Preparing a very simple Vector Store"
   ]
  },
  {
   "cell_type": "code",
   "execution_count": 4,
   "metadata": {},
   "outputs": [
    {
     "name": "stdout",
     "output_type": "stream",
     "text": [
      "Adding 5 segments to the vector store\n"
     ]
    }
   ],
   "source": [
    "from langchain.vectorstores import Chroma\n",
    "from langchain_openai.embeddings.azure import AzureOpenAIEmbeddings\n",
    "\n",
    "\n",
    "all_segments = pdf_segments\n",
    "\n",
    "embeddings = AzureOpenAIEmbeddings(\n",
    "    openai_api_key=os.getenv(\"AZURE_OPENAI_API_KEY\"),\n",
    "    azure_endpoint=os.getenv(\"AZURE_OPENAI_ENDPOINT\"),\n",
    "    azure_deployment=\"text-embedding-ada-002\")\n",
    "\n",
    "\n",
    "#persist_directory = './chroma_db'\n",
    "print(f'Adding {len(all_segments)} segments to the vector store')\n",
    "vectordb =  Chroma.from_documents(\n",
    "    documents=all_segments,\n",
    "    #persist_directory=persist_directory, \n",
    "    embedding=embeddings)\n",
    "\n",
    "#vectordb.persist()\n"
   ]
  },
  {
   "cell_type": "markdown",
   "metadata": {},
   "source": [
    "## RetrievalQA"
   ]
  },
  {
   "cell_type": "code",
   "execution_count": 5,
   "metadata": {},
   "outputs": [],
   "source": [
    "from langchain.chains import RetrievalQA\n",
    "from langchain_openai import AzureChatOpenAI\n",
    "from langchain.chains import RetrievalQAWithSourcesChain\n",
    "\n",
    "llm = AzureChatOpenAI(\n",
    "    openai_api_key=os.getenv(\"AZURE_OPENAI_KEY\"),\n",
    "    azure_endpoint=os.getenv(\"AZURE_OPENAI_ENDPOINT\"),\n",
    "    deployment_name=\"gpt-35-turbo\",\n",
    "    temperature=0.2,\n",
    "    openai_api_version=\"2023-05-15\")\n",
    "\n",
    "\n",
    "qa_chain = RetrievalQA.from_chain_type(\n",
    "    llm,\n",
    "    chain_type=\"stuff\",\n",
    "    retriever=vectordb.as_retriever(\n",
    "        search_type=\"similarity\", #default\n",
    "        search_kwargs={\"k\":1} #default\n",
    "        ) \n",
    ")\n",
    "\n",
    "def qa(query):\n",
    "    return qa_chain(query)['result']\n"
   ]
  },
  {
   "cell_type": "markdown",
   "metadata": {},
   "source": [
    "### Lest test it!"
   ]
  },
  {
   "cell_type": "code",
   "execution_count": 6,
   "metadata": {},
   "outputs": [
    {
     "name": "stderr",
     "output_type": "stream",
     "text": [
      "/workspaces/upskilling/.venv/lib/python3.11/site-packages/langchain_core/_api/deprecation.py:119: LangChainDeprecationWarning: The method `Chain.__call__` was deprecated in langchain 0.1.0 and will be removed in 0.3.0. Use invoke instead.\n",
      "  warn_deprecated(\n"
     ]
    },
    {
     "name": "stdout",
     "output_type": "stream",
     "text": [
      "The speed limit for Vodafone Unlimited Lite is 2Mbps.\n",
      "EQUAL. The sentences communicate the same thing: the speed limit of Vodafone Unlimited Lite is 2Mbps.\n"
     ]
    }
   ],
   "source": [
    "result = qa(\"What are the speed limits for Unlimited Lite?\")\n",
    "print(result)\n",
    "evaluate(result, \"The speed limit for Vodafone Unlimited Lite is 2Mbps\")"
   ]
  },
  {
   "cell_type": "code",
   "execution_count": 7,
   "metadata": {},
   "outputs": [
    {
     "name": "stdout",
     "output_type": "stream",
     "text": [
      "The cost of video calling to UK mobiles is 55p per minute.\n",
      "EQUAL - Both sentences convey the same message about the cost of video calling to UK mobiles being 55p per minute.\n"
     ]
    }
   ],
   "source": [
    "result = qa(\"What is the cost of video calling to UK mobiles?\")\n",
    "print(result)\n",
    "evaluate(result, \"The cost of video calling to UK mobiles is 55p per minute.\")"
   ]
  },
  {
   "cell_type": "code",
   "execution_count": 8,
   "metadata": {},
   "outputs": [
    {
     "name": "stdout",
     "output_type": "stream",
     "text": [
      "Sending a standard text message to EU destinations costs 19p per message for Pay monthly and SIM only plans.\n",
      "EQUAL - Both sentences convey the same information about the cost of sending a standard text message to EU destinations for Pay monthly and SIM only plans.\n"
     ]
    }
   ],
   "source": [
    "result = qa(\"How much is sending a message to EU?\")\n",
    "print(result)\n",
    "evaluate(result, \"Sending a standard text message to EU destinations costs 19p per message for Pay monthly and SIM only plans\")"
   ]
  },
  {
   "cell_type": "code",
   "execution_count": 13,
   "metadata": {},
   "outputs": [
    {
     "name": "stdout",
     "output_type": "stream",
     "text": [
      "You can contact Vodafone customer service by calling 191 from your Vodafone phone or 0333 3040 191 from UK landlines or other mobiles. They will be able to assist you with any questions or concerns about ending your agreement.\n",
      "EQUAL - Both sentences are instructing to contact Vodafone customer service using the same numbers for assistance with any queries or concerns about wrapping up your contract.\n"
     ]
    }
   ],
   "source": [
    "result = qa(\"I disagree about when I have to end my agreement. Which number I can call?\") # Right answer= Phone: 191 from your Vodafone phone or 0333 3040 191 (from UK landlines or other mobiles);\n",
    "print(result)\n",
    "evaluate(result, \"You can contact Vodafone customer service by calling 191 from your Vodafone phone or 0333 3040 191 from UK landlines or other mobiles.They will be able to assist you with any questions or concerns regarding the termination of your agreement.\")"
   ]
  },
  {
   "cell_type": "code",
   "execution_count": 21,
   "metadata": {},
   "outputs": [
    {
     "name": "stdout",
     "output_type": "stream",
     "text": [
      "The cost of making a call to a number starting with 09 is 65p per minute for Vodafone's Access Charge, plus the Service Charge set by the service or organization you are calling.\n",
      "EQUAL, because both sentences convey the exact same information regarding the cost of making a call to a number starting with 09 for Vodafone's Access Charge.\n"
     ]
    }
   ],
   "source": [
    "result = qa(\"I am making a call to a number starting with 09. What is the cost?\")\n",
    "print(result)\n",
    "evaluate(result, \"The cost of making a call to a number starting with 09 is 65p per minute for Vodafone's Access Charge, plus the Service Charge set by the service or organization you are calling.\")"
   ]
  },
  {
   "cell_type": "markdown",
   "metadata": {},
   "source": [
    "### Tricky ones\n"
   ]
  },
  {
   "cell_type": "code",
   "execution_count": 11,
   "metadata": {},
   "outputs": [
    {
     "name": "stdout",
     "output_type": "stream",
     "text": [
      "Your allowance includes calls to any mobile network within the UK, standard UK landlines (starting 01, 02, 03), voicemail, standard text messages, and data usage. It may also include a monthly roaming allowance for calls to any mobile network in the UK or in our Roam-free destinations.\n",
      "DIFFERENT because the first sentence is describing what the allowance includes, while the second sentence is a statement of not knowing what the current allowance is.\n"
     ]
    }
   ],
   "source": [
    "result = qa(\"What is included in my allowance?\")\n",
    "print(result)\n",
    "evaluate(result, \"I don't know what is your current allowance!\")"
   ]
  },
  {
   "cell_type": "code",
   "execution_count": 9,
   "metadata": {},
   "outputs": [
    {
     "name": "stdout",
     "output_type": "stream",
     "text": [
      "Sending a text message to EU destinations from the UK costs 19p per minute for Pay monthly and SIM only plans.\n",
      "DIFFERENT because the first sentence charges per minute, while the second sentence charges per message.\n"
     ]
    }
   ],
   "source": [
    "result = qa(\"How much is sending a message to abroad, to the EU?\")\n",
    "print(result)\n",
    "evaluate(result, \"Sending a standard text message to EU destinations costs 19p per message for Pay monthly and SIM only plans\")"
   ]
  }
 ],
 "metadata": {
  "kernelspec": {
   "display_name": "Python 3",
   "language": "python",
   "name": "python3"
  },
  "language_info": {
   "codemirror_mode": {
    "name": "ipython",
    "version": 3
   },
   "file_extension": ".py",
   "mimetype": "text/x-python",
   "name": "python",
   "nbconvert_exporter": "python",
   "pygments_lexer": "ipython3",
   "version": "3.11.9"
  }
 },
 "nbformat": 4,
 "nbformat_minor": 2
}
