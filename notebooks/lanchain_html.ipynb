{
 "cells": [
  {
   "cell_type": "code",
   "execution_count": 3,
   "metadata": {},
   "outputs": [],
   "source": [
    "import os\n",
    "import openai\n",
    "import sys\n",
    "from langchain.schema import Document\n",
    "from typing import List, Dict\n",
    "\n",
    "# Required to bypass some issues with ChromaDB and python3.11\n",
    "__import__('pysqlite3')\n",
    "import sys\n",
    "sys.modules['sqlite3'] = sys.modules.pop('pysqlite3')\n",
    "\n",
    "# Allow nested asyncio loops\n",
    "import nest_asyncio\n",
    "nest_asyncio.apply()"
   ]
  },
  {
   "cell_type": "code",
   "execution_count": 4,
   "metadata": {},
   "outputs": [],
   "source": [
    "from openai import AzureOpenAI\n",
    "    \n",
    "client = AzureOpenAI(\n",
    "    api_key=os.getenv(\"AZURE_OPENAI_API_KEY\"),  \n",
    "    api_version=\"2024-02-01\",\n",
    "    azure_endpoint = os.getenv(\"AZURE_OPENAI_ENDPOINT\")\n",
    "    )\n",
    "\n",
    "def evaluate(prediction, expected):\n",
    "    response = client.chat.completions.create(\n",
    "        model=\"gpt-4\", \n",
    "        messages=[\n",
    "            {\"role\": \"system\", \"content\": \"You are a judge that determins if two sentences mean overall the same. It does not matter they use different. Answer EQUAL or DIFFERENT with one sentence explaining why. The first sentece is delimited by ####, the second sentence is delimited by $$$$\"},\n",
    "            {\"role\": \"user\", \"content\": f\"####{prediction}####  $$$${expected}$$$$\"},\n",
    "        ])\n",
    "    print(response.choices[0].message.content)\n"
   ]
  },
  {
   "cell_type": "markdown",
   "metadata": {},
   "source": [
    "### Loading and Splitting HTML documents"
   ]
  },
  {
   "cell_type": "code",
   "execution_count": 5,
   "metadata": {},
   "outputs": [
    {
     "name": "stderr",
     "output_type": "stream",
     "text": [
      "WARNING:root:USER_AGENT environment variable not set, consider setting it to identify your requests.\n",
      "Fetching pages: 100%|##########| 3/3 [00:00<00:00,  5.65it/s]\n"
     ]
    },
    {
     "name": "stdout",
     "output_type": "stream",
     "text": [
      "Number of HTML segments is  319\n"
     ]
    }
   ],
   "source": [
    "from langchain.document_loaders import WebBaseLoader\n",
    "from langchain.text_splitter import HTMLHeaderTextSplitter\n",
    "\n",
    "urls=[\n",
    "    \"https://www.vodafone.co.uk/business/sme-business/small-business-advice/top-5-file-sharing-tools-to-secure-your-business\",\n",
    "    \"https://www.vodafone.co.uk/mobile/extras#abroadminpaym\",\n",
    "    \"https://www.vodafone.co.uk/mobile/global-roaming#destinations\",    \n",
    "    ]\n",
    "web_loader = WebBaseLoader()\n",
    "html_data = web_loader.scrape_all(urls)\n",
    "\n",
    "\n",
    "# https://blog.langchain.dev/a-chunk-by-any-other-name/\n",
    "# select headers to split on, and map these to metadata field names\n",
    "headers_to_split_on = [\n",
    "    (\"h1\", \"article_h1_main\"),\n",
    "    (\"h2\", \"article_h2_subsection\"),\n",
    "    (\"h3\", \"article_h3_subsection\"),\n",
    "    (\"h4\", \"article_h4_subsection\"),\n",
    "]\n",
    "\n",
    "html_splitter = HTMLHeaderTextSplitter(\n",
    "    headers_to_split_on=headers_to_split_on,\n",
    "    # combine elements with the same metadata by setting return_each_element to False (default)\n",
    "    return_each_element=False\n",
    ")\n",
    "\n",
    "html_segments = html_splitter.split_text(str(html_data))\n",
    "print(f'Number of HTML segments is  {len(html_segments)}')"
   ]
  },
  {
   "cell_type": "markdown",
   "metadata": {},
   "source": [
    "### Preparing a very simple Vector Store"
   ]
  },
  {
   "cell_type": "code",
   "execution_count": 6,
   "metadata": {},
   "outputs": [
    {
     "name": "stdout",
     "output_type": "stream",
     "text": [
      "Adding 319 to the vector store\n"
     ]
    }
   ],
   "source": [
    "from langchain.vectorstores import Chroma\n",
    "from langchain_openai.embeddings.azure import AzureOpenAIEmbeddings\n",
    "\n",
    "\n",
    "all_segments = html_segments\n",
    "\n",
    "embeddings = AzureOpenAIEmbeddings(\n",
    "    openai_api_key=os.getenv(\"AZURE_OPENAI_API_KEY\"),\n",
    "    azure_endpoint=os.getenv(\"AZURE_OPENAI_ENDPOINT\"),\n",
    "    azure_deployment=\"text-embedding-ada-002\")\n",
    "\n",
    "\n",
    "persist_directory = './chroma_db'\n",
    "print(f'Adding {len(all_segments)} to the vector store')\n",
    "vectordb =  Chroma.from_documents(\n",
    "    documents=all_segments,\n",
    "    #persist_directory=persist_directory, \n",
    "    embedding=embeddings)\n",
    "\n",
    "#vectordb.persist()\n"
   ]
  },
  {
   "cell_type": "markdown",
   "metadata": {},
   "source": [
    "## RetrievalQA"
   ]
  },
  {
   "cell_type": "code",
   "execution_count": 7,
   "metadata": {},
   "outputs": [],
   "source": [
    "from langchain.chains import RetrievalQA\n",
    "from langchain_openai import AzureChatOpenAI\n",
    "from langchain.chains import RetrievalQAWithSourcesChain\n",
    "\n",
    "llm = AzureChatOpenAI(\n",
    "    openai_api_key=os.getenv(\"AZURE_OPENAI_KEY\"),\n",
    "    azure_endpoint=os.getenv(\"AZURE_OPENAI_ENDPOINT\"),\n",
    "    deployment_name=\"gpt-35-turbo\",\n",
    "    temperature=0.2,\n",
    "    openai_api_version=\"2023-05-15\")\n",
    "\n",
    "\n",
    "qa_chain = RetrievalQA.from_chain_type(\n",
    "    llm,\n",
    "    chain_type=\"stuff\",\n",
    "    retriever=vectordb.as_retriever(\n",
    "        search_type=\"similarity\", #default\n",
    "        search_kwargs={\"k\":4} #default\n",
    "        ) \n",
    ")\n",
    "\n",
    "def qa(query):\n",
    "    return qa_chain(query)['result']\n",
    "\n",
    "\n"
   ]
  },
  {
   "cell_type": "markdown",
   "metadata": {},
   "source": [
    "### Lest test it!"
   ]
  },
  {
   "cell_type": "code",
   "execution_count": 16,
   "metadata": {},
   "outputs": [
    {
     "name": "stdout",
     "output_type": "stream",
     "text": [
      "The best solution to store files safely would be SecureSafe. It offers the highest level of protection for data with strong encryption and is stored on a server in Switzerland, which has strict data protection regulations. It also has very high security features, including triple redundancy backup and user authentication. However, it's important to note that SecureSafe has very little storage space in the free version and can be quite expensive compared to other options.\n",
      "EQUAL, because both sentences indicate that SecureSafe is the best solution for storing files safely.\n"
     ]
    }
   ],
   "source": [
    "result = qa(\"Best solution to store files safely?\")\n",
    "print(result)\n",
    "evaluate(result, \"the best solution mentioned in the provided context for storing files safely is SecureSafe.\")\n"
   ]
  },
  {
   "cell_type": "code",
   "execution_count": 9,
   "metadata": {},
   "outputs": [
    {
     "name": "stdout",
     "output_type": "stream",
     "text": [
      "Google gives the most free storage space, offering 15 GB for free when you create a Google account.\n",
      "EQUAL, because both sentences express that Google provides 15GB of free storage space.\n"
     ]
    }
   ],
   "source": [
    "result = qa(\"Which provider gives the most of the space free of charge?\")\n",
    "print(result)\n",
    "evaluate(result, \"Google offers the most free storage, 15GB\")\n"
   ]
  },
  {
   "cell_type": "code",
   "execution_count": 10,
   "metadata": {},
   "outputs": [
    {
     "name": "stdout",
     "output_type": "stream",
     "text": [
      "You can use your plan allowance in 47 destinations with the 8-Day European Roaming Pass.\n",
      "EQUAL. Both sentences are exactly the same.\n"
     ]
    }
   ],
   "source": [
    "result = qa(\"How many destinations can I call with 8-Day European Roaming Pass?\")\n",
    "print(result)\n",
    "evaluate(result, \"You can use your plan allowance in 47 destinations with the 8-Day European Roaming Pass\")"
   ]
  },
  {
   "cell_type": "code",
   "execution_count": 11,
   "metadata": {},
   "outputs": [
    {
     "name": "stdout",
     "output_type": "stream",
     "text": [
      "Andorra is in Zone D.\n",
      "EQUAL. The sentences are identical, meaning they have the same message.\n"
     ]
    }
   ],
   "source": [
    "result = qa(\"In which zone is andorra?\")\n",
    "print(result)\n",
    "evaluate(result, \"Andorra is in Zone D\")"
   ]
  },
  {
   "cell_type": "code",
   "execution_count": 12,
   "metadata": {},
   "outputs": [
    {
     "name": "stdout",
     "output_type": "stream",
     "text": [
      "As a pay monthly customer, the cost of a roaming pass depends on the duration of the pass. The 8-day pass is priced at £12, and the 15-day pass is priced at £17. These passes allow you to use your monthly UK allowance of calls, texts, and data in Zone B destinations. However, please note that out-of-bundle charges such as picture messages, premium calls, or premium texts are not covered by the roaming pass.\n",
      "EQUAL - Both sentences basically provide the same information about the roaming pass prices and what they cover for the pay monthly customers.\n"
     ]
    }
   ],
   "source": [
    "result = qa(\"How much does it cost my roaming pass as a pay monthly customer?\")\n",
    "print(result)\n",
    "evaluate(result, \"As a pay monthly customer, the cost of a roaming pass depends on the duration of the pass. The 8-day pass is £12 and the 15-day pass is £17. These passes allow you to use your monthly UK allowance of calls, texts, and data in our Zone B destinations. However, please note that out of bundle charges such as picture messages, premium calls, or premium texts are not covered by the pass\")"
   ]
  },
  {
   "cell_type": "code",
   "execution_count": 17,
   "metadata": {},
   "outputs": [
    {
     "name": "stdout",
     "output_type": "stream",
     "text": [
      "Based on the given context, there is no specific mention of a pass for a weekend in France. However, you can consider the 8-day European Roaming pass mentioned, which allows you to use your plan allowance in 47 destinations. It may be suitable for a weekend trip to France, but it would depend on your specific needs and usage. It is recommended to check with your service provider for more details and options available for roaming in France.\n",
      "DIFFERENT. Though both sentences mention the 8-day European Roaming pass, the first expands on it and suggests checking with the service provider for specific needs when roaming in France, which the second sentence does not mention.\n"
     ]
    }
   ],
   "source": [
    "result = qa(\"What pass your recommend for a weekend in France?\")\n",
    "print(result)\n",
    "evaluate(result, \"with the given information, the 8-day European Roaming pass\")"
   ]
  },
  {
   "cell_type": "markdown",
   "metadata": {},
   "source": [
    "#### Let's find difficult questions"
   ]
  },
  {
   "cell_type": "code",
   "execution_count": 14,
   "metadata": {},
   "outputs": [
    {
     "name": "stdout",
     "output_type": "stream",
     "text": [
      "When travelling to France, there are several things you can do to save money:\n",
      "\n",
      "1. Research and compare prices for flights and accommodations to find the best deals.\n",
      "2. Consider staying in budget accommodations such as hostels or renting apartments instead of expensive hotels.\n",
      "3. Use public transportation instead of taxis or rental cars to save on transportation costs.\n",
      "4. Look for local restaurants and street food vendors instead of touristy restaurants to save on dining expenses.\n",
      "5. Take advantage of free or low-cost attractions and activities, such as visiting parks, museums with discounted or free entry days, or exploring the city on foot.\n",
      "6. Use a prepaid travel card or notify your bank about your travel plans to avoid excessive fees for using your debit or credit card abroad.\n",
      "7. Consider purchasing a local SIM card or an international data plan to avoid high roaming charges for using your phone.\n",
      "8. Plan your activities and attractions in advance to take advantage of any discounts or special offers available.\n",
      "\n",
      "Remember to always keep track of your expenses and set a budget to ensure you stay within your means while enjoying your trip to France.\n",
      "DIFFERENT. The first sentence provides a comprehensive guide on how to save money when travelling to France, whereas the second sentence only mentions a specific product, the 8-day European Roaming pass.\n"
     ]
    }
   ],
   "source": [
    "result = qa(\"I am travelling to france this weekend. What can I do to save money?\")\n",
    "print(result)\n",
    "evaluate(result, \"the 8-day European Roaming pass\")"
   ]
  },
  {
   "cell_type": "code",
   "execution_count": 15,
   "metadata": {},
   "outputs": [
    {
     "data": {
      "text/plain": [
       "{'query': 'How much does it cost to call andorra?',\n",
       " 'result': \"I don't have enough information to answer your question. Could you please provide me with more context or specify if you are referring to calling Andorra from a specific country or using a specific phone plan?\"}"
      ]
     },
     "execution_count": 15,
     "metadata": {},
     "output_type": "execute_result"
    }
   ],
   "source": [
    "qa_chain(\"How much does it cost to call andorra?\")"
   ]
  }
 ],
 "metadata": {
  "kernelspec": {
   "display_name": "Python 3",
   "language": "python",
   "name": "python3"
  },
  "language_info": {
   "codemirror_mode": {
    "name": "ipython",
    "version": 3
   },
   "file_extension": ".py",
   "mimetype": "text/x-python",
   "name": "python",
   "nbconvert_exporter": "python",
   "pygments_lexer": "ipython3",
   "version": "3.11.9"
  }
 },
 "nbformat": 4,
 "nbformat_minor": 2
}
