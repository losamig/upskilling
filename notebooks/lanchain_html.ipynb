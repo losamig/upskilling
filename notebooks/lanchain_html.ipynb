{
 "cells": [
  {
   "cell_type": "code",
   "execution_count": 3,
   "metadata": {},
   "outputs": [],
   "source": [
    "import os\n",
    "import openai\n",
    "import sys\n",
    "from langchain.schema import Document\n",
    "from typing import List, Dict\n",
    "\n",
    "# Required to bypass some issues with ChromaDB and python3.11\n",
    "__import__('pysqlite3')\n",
    "import sys\n",
    "sys.modules['sqlite3'] = sys.modules.pop('pysqlite3')\n",
    "\n",
    "# Allow nested asyncio loops\n",
    "import nest_asyncio\n",
    "nest_asyncio.apply()"
   ]
  },
  {
   "cell_type": "code",
   "execution_count": 4,
   "metadata": {},
   "outputs": [],
   "source": [
    "from openai import AzureOpenAI\n",
    "    \n",
    "client = AzureOpenAI(\n",
    "    api_key=os.getenv(\"AZURE_OPENAI_API_KEY\"),  \n",
    "    api_version=\"2024-02-01\",\n",
    "    azure_endpoint = os.getenv(\"AZURE_OPENAI_ENDPOINT\")\n",
    "    )\n",
    "\n",
    "def evaluate(prediction, expected):\n",
    "    response = client.chat.completions.create(\n",
    "        model=\"gpt-4\", \n",
    "        messages=[\n",
    "            {\"role\": \"system\", \"content\": \"You are a judge that determins if two sentences mean overall the same. It does not matter they use different. Answer EQUAL or DIFFERENT with one sentence explaining why. The first sentece is delimited by ####, the second sentence is delimited by $$$$\"},\n",
    "            {\"role\": \"user\", \"content\": f\"####{prediction}####  $$$${expected}$$$$\"},\n",
    "        ])\n",
    "    print(response.choices[0].message.content)\n"
   ]
  },
  {
   "cell_type": "markdown",
   "metadata": {},
   "source": [
    "### Loading and Splitting HTML documents"
   ]
  },
  {
   "cell_type": "code",
   "execution_count": 5,
   "metadata": {},
   "outputs": [
    {
     "name": "stderr",
     "output_type": "stream",
     "text": [
      "WARNING:root:USER_AGENT environment variable not set, consider setting it to identify your requests.\n",
      "Fetching pages: 100%|##########| 3/3 [00:00<00:00,  5.65it/s]\n"
     ]
    },
    {
     "name": "stdout",
     "output_type": "stream",
     "text": [
      "Number of HTML segments is  319\n"
     ]
    }
   ],
   "source": [
    "from langchain.document_loaders import WebBaseLoader\n",
    "from langchain.text_splitter import HTMLHeaderTextSplitter\n",
    "\n",
    "urls=[\n",
    "    \"https://www.vodafone.co.uk/business/sme-business/small-business-advice/top-5-file-sharing-tools-to-secure-your-business\",\n",
    "    \"https://www.vodafone.co.uk/mobile/extras#abroadminpaym\",\n",
    "    \"https://www.vodafone.co.uk/mobile/global-roaming#destinations\",    \n",
    "    ]\n",
    "web_loader = WebBaseLoader()\n",
    "html_data = web_loader.scrape_all(urls)\n",
    "\n",
    "\n",
    "# https://blog.langchain.dev/a-chunk-by-any-other-name/\n",
    "# select headers to split on, and map these to metadata field names\n",
    "headers_to_split_on = [\n",
    "    (\"h1\", \"article_h1_main\"),\n",
    "    (\"h2\", \"article_h2_subsection\"),\n",
    "    (\"h3\", \"article_h3_subsection\"),\n",
    "    (\"h4\", \"article_h4_subsection\"),\n",
    "]\n",
    "\n",
    "html_splitter = HTMLHeaderTextSplitter(\n",
    "    headers_to_split_on=headers_to_split_on,\n",
    "    # combine elements with the same metadata by setting return_each_element to False (default)\n",
    "    return_each_element=False\n",
    ")\n",
    "\n",
    "html_segments = html_splitter.split_text(str(html_data))\n",
    "print(f'Number of HTML segments is  {len(html_segments)}')"
   ]
  },
  {
   "cell_type": "markdown",
   "metadata": {},
   "source": [
    "### Preparing a very simple Vector Store"
   ]
  },
  {
   "cell_type": "code",
   "execution_count": 6,
   "metadata": {},
   "outputs": [
    {
     "name": "stdout",
     "output_type": "stream",
     "text": [
      "Adding 319 to the vector store\n"
     ]
    }
   ],
   "source": [
    "from langchain.vectorstores import Chroma\n",
    "from langchain_openai.embeddings.azure import AzureOpenAIEmbeddings\n",
    "\n",
    "\n",
    "all_segments = html_segments\n",
    "\n",
    "embeddings = AzureOpenAIEmbeddings(\n",
    "    openai_api_key=os.getenv(\"AZURE_OPENAI_API_KEY\"),\n",
    "    azure_endpoint=os.getenv(\"AZURE_OPENAI_ENDPOINT\"),\n",
    "    azure_deployment=\"text-embedding-ada-002\")\n",
    "\n",
    "\n",
    "persist_directory = './chroma_db'\n",
    "print(f'Adding {len(all_segments)} to the vector store')\n",
    "vectordb =  Chroma.from_documents(\n",
    "    documents=all_segments,\n",
    "    #persist_directory=persist_directory, \n",
    "    embedding=embeddings)\n",
    "\n",
    "#vectordb.persist()\n"
   ]
  },
  {
   "cell_type": "markdown",
   "metadata": {},
   "source": [
    "## RetrievalQA"
   ]
  },
  {
   "cell_type": "code",
   "execution_count": 7,
   "metadata": {},
   "outputs": [],
   "source": [
    "from langchain.chains import RetrievalQA\n",
    "from langchain_openai import AzureChatOpenAI\n",
    "from langchain.chains import RetrievalQAWithSourcesChain\n",
    "\n",
    "llm = AzureChatOpenAI(\n",
    "    openai_api_key=os.getenv(\"AZURE_OPENAI_KEY\"),\n",
    "    azure_endpoint=os.getenv(\"AZURE_OPENAI_ENDPOINT\"),\n",
    "    deployment_name=\"gpt-35-turbo\",\n",
    "    temperature=0.2,\n",
    "    openai_api_version=\"2023-05-15\")\n",
    "\n",
    "\n",
    "qa_chain = RetrievalQA.from_chain_type(\n",
    "    llm,\n",
    "    chain_type=\"stuff\",\n",
    "    retriever=vectordb.as_retriever(\n",
    "        search_type=\"similarity\", #default\n",
    "        search_kwargs={\"k\":4} #default\n",
    "        ) \n",
    ")\n",
    "\n",
    "def qa(query):\n",
    "    return qa_chain(query)['result']\n",
    "\n",
    "\n"
   ]
  },
  {
   "cell_type": "markdown",
   "metadata": {},
   "source": [
    "### Lest test it!"
   ]
  },
  {
   "cell_type": "code",
   "execution_count": 8,
   "metadata": {},
   "outputs": [
    {
     "name": "stderr",
     "output_type": "stream",
     "text": [
      "/workspaces/upskilling/.venv/lib/python3.11/site-packages/langchain_core/_api/deprecation.py:119: LangChainDeprecationWarning: The method `Chain.__call__` was deprecated in langchain 0.1.0 and will be removed in 0.3.0. Use invoke instead.\n",
      "  warn_deprecated(\n"
     ]
    },
    {
     "name": "stdout",
     "output_type": "stream",
     "text": [
      "The best solution to store files safely would be SecureSafe. It offers the highest level of protection for data with strong encryption and is stored on a server in Switzerland, which has strict data protection regulations. It also has very high security features, including triple redundancy backup and user authentication. However, it's important to note that the free version of SecureSafe only offers a mere 100MB of storage space and the paid version can be quite expensive compared to other options like Microsoft OneDrive.\n",
      "EQUAL. Both sentences highlight SecureSafe as the best solution for safe file storage.\n"
     ]
    }
   ],
   "source": [
    "result = qa(\"Best solution to store files safely?\")\n",
    "print(result)\n",
    "evaluate(result, \"the best solution mentioned in the provided context for storing files safely is SecureSafe.\")\n"
   ]
  },
  {
   "cell_type": "code",
   "execution_count": 9,
   "metadata": {},
   "outputs": [
    {
     "name": "stdout",
     "output_type": "stream",
     "text": [
      "Google gives the most storage space free of charge, offering 15 GB of storage with a Google account.\n",
      "EQUAL, because both sentences mention that Google offers the most free storage space of 15GB.\n"
     ]
    }
   ],
   "source": [
    "result = qa(\"Which provider gives the most of the space free of charge?\")\n",
    "print(result)\n",
    "evaluate(result, \"Google offers the most free storage, 15GB\")\n"
   ]
  },
  {
   "cell_type": "code",
   "execution_count": 10,
   "metadata": {},
   "outputs": [
    {
     "name": "stdout",
     "output_type": "stream",
     "text": [
      "You can use your plan allowance in 47 destinations with the 8-Day European Roaming Pass.\n",
      "EQUAL, because both sentences are completely identical.\n"
     ]
    }
   ],
   "source": [
    "result = qa(\"How many destinations can I call with 8-Day European Roaming Pass?\")\n",
    "print(result)\n",
    "evaluate(result, \"You can use your plan allowance in 47 destinations with the 8-Day European Roaming Pass\")"
   ]
  },
  {
   "cell_type": "code",
   "execution_count": 11,
   "metadata": {},
   "outputs": [
    {
     "name": "stdout",
     "output_type": "stream",
     "text": [
      "Andorra is in Zone D.\n",
      "EQUAL. The sentences are identical in meaning and wording.\n"
     ]
    }
   ],
   "source": [
    "result = qa(\"In which zone is andorra?\")\n",
    "print(result)\n",
    "evaluate(result, \"Andorra is in Zone D\")"
   ]
  },
  {
   "cell_type": "code",
   "execution_count": 12,
   "metadata": {},
   "outputs": [
    {
     "name": "stdout",
     "output_type": "stream",
     "text": [
      "As a pay monthly customer, the cost of a roaming pass depends on the duration you choose. The 8-day pass is £12 and the 15-day pass is £17. These passes allow you to use your monthly UK allowance of calls, texts, and data in our Zone B destinations. However, please note that out-of-bundle charges such as picture messages, premium calls, or premium texts are not covered by the pass.\n",
      "EQUAL - Both sentences convey the same message about the cost of a roaming pass for pay monthly customers depending on the pass duration and what is covered by the pass. The wording is slightly different but the information and intent are the same.\n"
     ]
    }
   ],
   "source": [
    "result = qa(\"How much does it cost my roaming pass as a pay monthly customer?\")\n",
    "print(result)\n",
    "evaluate(result, \"As a pay monthly customer, the cost of a roaming pass depends on the duration of the pass. The 8-day pass is £12 and the 15-day pass is £17. These passes allow you to use your monthly UK allowance of calls, texts, and data in our Zone B destinations. However, please note that out of bundle charges such as picture messages, premium calls, or premium texts are not covered by the pass\")"
   ]
  },
  {
   "cell_type": "code",
   "execution_count": 13,
   "metadata": {},
   "outputs": [
    {
     "name": "stdout",
     "output_type": "stream",
     "text": [
      "Based on the given context, there is no specific mention of a pass for a weekend in France. However, it is possible that the 8-day European Roaming pass mentioned could be suitable for a weekend trip to France, as it allows you to use your plan allowance in 47 destinations. It would be best to check with your service provider for more specific information or recommendations.\n",
      "DIFFERENT. The first sentence teases out more details and possibilities, while the second sentence simply mentions the 8-day European Roaming pass without giving further context or details.\n"
     ]
    }
   ],
   "source": [
    "result = qa(\"What pass your recommend for a weekend in France?\")\n",
    "print(result)\n",
    "evaluate(result, \"with the given information, the 8-day European Roaming pass\")"
   ]
  },
  {
   "cell_type": "markdown",
   "metadata": {},
   "source": [
    "#### Let's find difficult questions"
   ]
  },
  {
   "cell_type": "code",
   "execution_count": 14,
   "metadata": {},
   "outputs": [
    {
     "name": "stdout",
     "output_type": "stream",
     "text": [
      "When travelling to France, there are several things you can do to save money:\n",
      "\n",
      "1. Research and compare prices for flights and accommodations to find the best deals.\n",
      "2. Consider staying in budget-friendly accommodations such as hostels or vacation rentals instead of expensive hotels.\n",
      "3. Use public transportation instead of taxis or rental cars to save on transportation costs.\n",
      "4. Look for local restaurants and street food vendors instead of touristy restaurants to save on dining expenses.\n",
      "5. Take advantage of free or low-cost attractions and activities, such as visiting parks, museums with discounted or free entry days, or exploring the city on foot.\n",
      "6. Consider purchasing a local SIM card or using a travel SIM card to avoid expensive roaming charges for your phone.\n",
      "7. Plan your activities and attractions in advance to take advantage of any discounts or special offers.\n",
      "8. Avoid unnecessary expenses by packing snacks, reusable water bottles, and other essentials instead of buying them on the go.\n",
      "9. Be mindful of your spending and set a budget for yourself to avoid overspending.\n",
      "10. Consider using a travel rewards credit card that offers benefits such as cashback or travel points to save on future trips.\n",
      "\n",
      "Remember to always prioritize your safety and well-being while travelling and make informed decisions based on your personal preferences and circumstances.\n",
      "DIFFERENT. The first sentence provides a list of tips for saving money when traveling to France, while the second sentence mentions a specific product, the 8-day European Roaming pass.\n"
     ]
    }
   ],
   "source": [
    "result = qa(\"I am travelling to france this weekend. What can I do to save money?\")\n",
    "print(result)\n",
    "evaluate(result, \"the 8-day European Roaming pass\")"
   ]
  },
  {
   "cell_type": "code",
   "execution_count": 15,
   "metadata": {},
   "outputs": [
    {
     "data": {
      "text/plain": [
       "{'query': 'How much does it cost to call andorra?',\n",
       " 'result': \"Based on the given context, it is not specified how much it costs to call Andorra. Therefore, I don't know the answer to your question.\"}"
      ]
     },
     "execution_count": 15,
     "metadata": {},
     "output_type": "execute_result"
    }
   ],
   "source": [
    "qa_chain(\"How much does it cost to call andorra?\")"
   ]
  }
 ],
 "metadata": {
  "kernelspec": {
   "display_name": "Python 3",
   "language": "python",
   "name": "python3"
  },
  "language_info": {
   "codemirror_mode": {
    "name": "ipython",
    "version": 3
   },
   "file_extension": ".py",
   "mimetype": "text/x-python",
   "name": "python",
   "nbconvert_exporter": "python",
   "pygments_lexer": "ipython3",
   "version": "3.11.9"
  }
 },
 "nbformat": 4,
 "nbformat_minor": 2
}
