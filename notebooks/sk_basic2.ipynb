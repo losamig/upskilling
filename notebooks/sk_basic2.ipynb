{
 "cells": [
  {
   "cell_type": "markdown",
   "metadata": {},
   "source": [
    "### Setting up a kernel"
   ]
  },
  {
   "cell_type": "code",
   "execution_count": 9,
   "metadata": {},
   "outputs": [
    {
     "name": "stdout",
     "output_type": "stream",
     "text": [
      "You made a kernel!\n"
     ]
    }
   ],
   "source": [
    "import semantic_kernel as sk\n",
    "import semantic_kernel.connectors.ai.open_ai as skaoai\n",
    "import os\n",
    "\n",
    "from dotenv import load_dotenv, find_dotenv\n",
    "_ = load_dotenv(find_dotenv()) # read local .env file\n",
    "\n",
    "kernel = sk.Kernel()\n",
    "\n",
    "useAzureOpenAI = True\n",
    "\n",
    "api_key = os.getenv(\"AZURE_OPENAI_API_KEY\")\n",
    "endpoint = os.getenv(\"AZURE_OPENAI_ENDPOINT\")\n",
    "\n",
    "deployment=\"gpt-4o\"\n",
    "service_id = \"default\"\n",
    "kernel.add_service(\n",
    "    skaoai.AzureChatCompletion(\n",
    "        deployment_name=deployment,\n",
    "        endpoint=endpoint,api_key=api_key)\n",
    "    )\n",
    "\n",
    "print(\"You made a kernel!\")"
   ]
  },
  {
   "cell_type": "markdown",
   "metadata": {},
   "source": [
    "### Loading the functions in the kernel"
   ]
  },
  {
   "cell_type": "code",
   "execution_count": 10,
   "metadata": {},
   "outputs": [
    {
     "name": "stdout",
     "output_type": "stream",
     "text": [
      "name='car_plugins' description=None functions={'aircon': KernelFunctionFromMethod(metadata=KernelFunctionMetadata(name='aircon', plugin_name='car_plugins', description='Operates the aircon of the car to adjust temperature', parameters=[KernelParameterMetadata(name='temperature', description='the new temperature', default_value=None, type_='float', is_required=True, type_object=<class 'float'>, schema_data={'type': 'number', 'description': 'the new temperature'})], is_prompt=False, is_asynchronous=False, return_parameter=KernelParameterMetadata(name='return', description='the description of the operation that has been performed', default_value=None, type_='str', is_required=True, type_object=<class 'str'>, schema_data={'type': 'string', 'description': 'the description of the operation that has been performed'}), additional_properties={}), method=<bound method CarAPI.aircon_temperature of <car_api.CarAPI object at 0x78dce59f3990>>, stream_method=None), 'GetCarStatus': KernelFunctionFromMethod(metadata=KernelFunctionMetadata(name='GetCarStatus', plugin_name='car_plugins', description='Returns the status of the the car', parameters=[], is_prompt=False, is_asynchronous=False, return_parameter=KernelParameterMetadata(name='return', description='json document with the status of the car', default_value=None, type_='str', is_required=True, type_object=<class 'str'>, schema_data={'type': 'string', 'description': 'json document with the status of the car'}), additional_properties={}), method=<bound method CarAPI.get_car_status of <car_api.CarAPI object at 0x78dce59f3990>>, stream_method=None), 'windows_actions': KernelFunctionFromMethod(metadata=KernelFunctionMetadata(name='windows_actions', plugin_name='car_plugins', description='sets the positions of individual windows of the car', parameters=[KernelParameterMetadata(name='action', description='the operation to perform on the windows', default_value=None, type_='str', is_required=True, type_object=<class 'str'>, schema_data={'type': 'string', 'description': 'the operation to perform on the windows'}), KernelParameterMetadata(name='target_window', description='window that is targeted by the operation. The valid values are front_left, front_right, rear_left, rear_right', default_value=None, type_='str', is_required=True, type_object=<class 'str'>, schema_data={'type': 'string', 'description': 'window that is targeted by the operation. The valid values are front_left, front_right, rear_left, rear_right'})], is_prompt=False, is_asynchronous=False, return_parameter=KernelParameterMetadata(name='return', description='the description of the operation that has been performed', default_value=None, type_='str', is_required=True, type_object=<class 'str'>, schema_data={'type': 'string', 'description': 'the description of the operation that has been performed'}), additional_properties={}), method=<bound method CarAPI.windows_position of <car_api.CarAPI object at 0x78dce59f3990>>, stream_method=None)}\n"
     ]
    }
   ],
   "source": [
    "plugins_directory = \"sk_plugins/native/v2\"\n",
    "car_plugin = kernel.add_plugin(parent_directory=plugins_directory, plugin_name=\"car_plugins\")\n",
    "print(car_plugin)"
   ]
  },
  {
   "cell_type": "markdown",
   "metadata": {},
   "source": [
    "#### Using Autoinvoke, so semantic kernel decides when to call a plugin by itself"
   ]
  },
  {
   "cell_type": "code",
   "execution_count": 11,
   "metadata": {},
   "outputs": [],
   "source": [
    "from semantic_kernel.prompt_template import InputVariable, PromptTemplateConfig\n",
    "from semantic_kernel.connectors.ai.function_call_behavior import FunctionCallBehavior\n",
    "from semantic_kernel.functions import KernelArguments\n",
    "\n",
    "prompt = \"\"\"\n",
    "Consider the following car status {{car_plugins.GetCarStatus}}\n",
    "Perform the following actions:\n",
    "{{$input}}\n",
    "\"\"\"\n",
    "\n",
    "execution_settings = kernel.get_service(service_id).instantiate_prompt_execution_settings(\n",
    "    service_id=service_id, \n",
    "    temperature=0,  # Temperature can affect the execution of plugins!\n",
    "    max_tokens=2000,\n",
    "    function_call_behavior=FunctionCallBehavior.AutoInvokeKernelFunctions(),\n",
    "    )\n",
    "\n",
    "prompt_template_config = PromptTemplateConfig(\n",
    "    template=prompt,\n",
    "    name=\"summarize\",\n",
    "    template_format=\"semantic-kernel\",\n",
    "    input_variables=[\n",
    "        InputVariable(name=\"input\", description=\"The actions to be performed\", is_required=True),\n",
    "    ],        \n",
    "    execution_settings=execution_settings,\n",
    " \n",
    ")\n",
    "\n",
    "car_function = kernel.add_function(\n",
    "    function_name=\"car_function\",\n",
    "    plugin_name=\"CarFunctions\",\n",
    "    prompt_template_config=prompt_template_config,\n",
    ")\n"
   ]
  },
  {
   "cell_type": "code",
   "execution_count": 12,
   "metadata": {},
   "outputs": [
    {
     "name": "stdout",
     "output_type": "stream",
     "text": [
      "Reading car status\n",
      "Executing raise on window front_right\n",
      "The passenger window (front right) has been raised.\n"
     ]
    }
   ],
   "source": [
    "summary = await kernel.invoke(car_function, input=\"Raise the passenger window\")\n",
    "print(summary)\n"
   ]
  },
  {
   "cell_type": "code",
   "execution_count": 13,
   "metadata": {},
   "outputs": [
    {
     "name": "stdout",
     "output_type": "stream",
     "text": [
      "Reading car status\n",
      "Setting aircon to 19.0\n",
      "Executing close on window rear_left\n",
      "Executing close on window rear_right\n",
      "The air conditioning has been set to 19 degrees, and the rear left and rear right windows have been closed.\n"
     ]
    }
   ],
   "source": [
    "summary = await kernel.invoke(car_function, input=\"Low temperature to 19 degrees\")\n",
    "print(summary)\n"
   ]
  },
  {
   "cell_type": "code",
   "execution_count": 14,
   "metadata": {},
   "outputs": [
    {
     "name": "stdout",
     "output_type": "stream",
     "text": [
      "Reading car status\n",
      "Setting aircon to 25.0\n",
      "Executing close on window rear_left\n",
      "Executing close on window rear_right\n"
     ]
    }
   ],
   "source": [
    "summary = await kernel.invoke(car_function, input=\"I am feeling cold\")"
   ]
  },
  {
   "cell_type": "code",
   "execution_count": 15,
   "metadata": {},
   "outputs": [
    {
     "name": "stdout",
     "output_type": "stream",
     "text": [
      "Reading car status\n",
      "Setting aircon to 18.0\n",
      "Executing close on window rear_left\n",
      "Executing close on window rear_right\n"
     ]
    }
   ],
   "source": [
    "summary = await kernel.invoke(car_function, input=\"I am feeling hot\")"
   ]
  },
  {
   "cell_type": "code",
   "execution_count": 17,
   "metadata": {},
   "outputs": [
    {
     "name": "stdout",
     "output_type": "stream",
     "text": [
      "Reading car status\n",
      "Setting aircon to 22.0\n",
      "Executing close on window rear_left\n",
      "Executing open on window front_right\n"
     ]
    }
   ],
   "source": [
    "summary = await kernel.invoke(car_function, input=\"The driver is cold, but the passenger is hot\")"
   ]
  },
  {
   "cell_type": "code",
   "execution_count": 16,
   "metadata": {},
   "outputs": [
    {
     "name": "stdout",
     "output_type": "stream",
     "text": [
      "Reading car status\n",
      "Invalid window name\n",
      "Reading car status\n"
     ]
    }
   ],
   "source": [
    "summary = await kernel.invoke(car_function, input=\"Open the roof\")"
   ]
  }
 ],
 "metadata": {
  "kernelspec": {
   "display_name": ".venv",
   "language": "python",
   "name": "python3"
  },
  "language_info": {
   "codemirror_mode": {
    "name": "ipython",
    "version": 3
   },
   "file_extension": ".py",
   "mimetype": "text/x-python",
   "name": "python",
   "nbconvert_exporter": "python",
   "pygments_lexer": "ipython3",
   "version": "3.11.9"
  }
 },
 "nbformat": 4,
 "nbformat_minor": 2
}
